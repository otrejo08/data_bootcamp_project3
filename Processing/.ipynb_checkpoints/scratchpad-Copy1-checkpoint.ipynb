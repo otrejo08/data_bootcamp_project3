{
 "cells": [
  {
   "cell_type": "code",
   "execution_count": 118,
   "metadata": {},
   "outputs": [
    {
     "name": "stdout",
     "output_type": "stream",
     "text": [
      "showing info https://raw.githubusercontent.com/nltk/nltk_data/gh-pages/index.xml\n"
     ]
    },
    {
     "data": {
      "text/plain": [
       "True"
      ]
     },
     "execution_count": 118,
     "metadata": {},
     "output_type": "execute_result"
    }
   ],
   "source": [
    "import nltk\n",
    "nltk.download()"
   ]
  },
  {
   "cell_type": "code",
   "execution_count": 124,
   "metadata": {},
   "outputs": [
    {
     "name": "stderr",
     "output_type": "stream",
     "text": [
      "C:\\Users\\mvesk\\Anaconda3\\lib\\site-packages\\nltk\\twitter\\__init__.py:20: UserWarning: The twython library has not been installed. Some functionality from the twitter package will not be available.\n",
      "  warnings.warn(\"The twython library has not been installed. \"\n",
      "C:\\Users\\mvesk\\Anaconda3\\lib\\site-packages\\sklearn\\ensemble\\weight_boosting.py:29: DeprecationWarning: numpy.core.umath_tests is an internal NumPy module and should not be imported. It will be removed in a future NumPy release.\n",
      "  from numpy.core.umath_tests import inner1d\n"
     ]
    },
    {
     "ename": "ModuleNotFoundError",
     "evalue": "No module named 'eli5'",
     "output_type": "error",
     "traceback": [
      "\u001b[1;31m---------------------------------------------------------------------------\u001b[0m",
      "\u001b[1;31mModuleNotFoundError\u001b[0m                       Traceback (most recent call last)",
      "\u001b[1;32m<ipython-input-124-53feefd4e242>\u001b[0m in \u001b[0;36m<module>\u001b[1;34m()\u001b[0m\n\u001b[0;32m     22\u001b[0m \u001b[1;32mfrom\u001b[0m \u001b[0mscipy\u001b[0m \u001b[1;32mimport\u001b[0m \u001b[0mstats\u001b[0m\u001b[1;33m\u001b[0m\u001b[0m\n\u001b[0;32m     23\u001b[0m \u001b[1;32mfrom\u001b[0m \u001b[0mdateutil\u001b[0m \u001b[1;32mimport\u001b[0m \u001b[0mparser\u001b[0m\u001b[1;33m\u001b[0m\u001b[0m\n\u001b[1;32m---> 24\u001b[1;33m \u001b[1;32mimport\u001b[0m \u001b[0meli5\u001b[0m\u001b[1;33m\u001b[0m\u001b[0m\n\u001b[0m\u001b[0;32m     25\u001b[0m \u001b[1;32mfrom\u001b[0m \u001b[0meli5\u001b[0m\u001b[1;33m.\u001b[0m\u001b[0msklearn\u001b[0m \u001b[1;32mimport\u001b[0m \u001b[0mPermutationImportance\u001b[0m\u001b[1;33m\u001b[0m\u001b[0m\n\u001b[0;32m     26\u001b[0m \u001b[1;32mfrom\u001b[0m \u001b[0mskopt\u001b[0m\u001b[1;33m.\u001b[0m\u001b[0mspace\u001b[0m \u001b[1;32mimport\u001b[0m \u001b[0mReal\u001b[0m\u001b[1;33m\u001b[0m\u001b[0m\n",
      "\u001b[1;31mModuleNotFoundError\u001b[0m: No module named 'eli5'"
     ]
    }
   ],
   "source": [
    "# Importing libraries\n",
    "import numpy as np\n",
    "from pandas import Series, DataFrame\n",
    "import pandas as pd\n",
    "import seaborn as sns\n",
    "from collections import Counter\n",
    "from numpy.random import randn\n",
    "from datetime import datetime\n",
    "\n",
    "from geopy.distance import vincenty\n",
    "import nltk\n",
    "from nltk.sentiment.vader import SentimentIntensityAnalyzer\n",
    "from vaderSentiment.vaderSentiment import SentimentIntensityAnalyzer\n",
    "from tqdm import tqdm\n",
    "tqdm.pandas()\n",
    "from sklearn.metrics import r2_score\n",
    "from sklearn.model_selection import train_test_split\n",
    "from sklearn.ensemble import GradientBoostingRegressor\n",
    "from sklearn.model_selection import RandomizedSearchCV\n",
    "from nltk.sentiment.vader import SentimentIntensityAnalyzer\n",
    "from collections import Counter\n",
    "from scipy import stats\n",
    "from dateutil import parser\n",
    "import eli5\n",
    "from eli5.sklearn import PermutationImportance\n",
    "from skopt.space import Real\n",
    "import warnings\n",
    "warnings.filterwarnings(\"ignore\")\n",
    "\n",
    "\n",
    "\n",
    "\n",
    "\n",
    "import matplotlib.pyplot as plt\n",
    "%matplotlib inline\n",
    "\n",
    "\n",
    "\n",
    "\n",
    "\n",
    "# Change pandas viewing options\n",
    "pd.set_option('display.max_rows', 500)\n",
    "pd.set_option('display.max_columns', 500)\n",
    "pd.set_option('display.width', 1000)"
   ]
  },
  {
   "cell_type": "code",
   "execution_count": 93,
   "metadata": {
    "scrolled": true
   },
   "outputs": [
    {
     "name": "stderr",
     "output_type": "stream",
     "text": [
      "C:\\Users\\mvesk\\Anaconda3\\lib\\site-packages\\IPython\\core\\interactiveshell.py:2785: DtypeWarning: Columns (40) have mixed types. Specify dtype option on import or set low_memory=False.\n",
      "  interactivity=interactivity, compiler=compiler, result=result)\n"
     ]
    }
   ],
   "source": [
    "# Gathering Data\n",
    "sydney_listings = pd.read_csv('sydney-2016-01-03-listings.csv')\n",
    "sydney_reviews = pd.read_csv('sydney-2016-01-03-reviews.csv')\n",
    "sydney_calendar = pd.read_csv('sydney-2016-01-03-calendar.csv')\n",
    "\n",
    "melbourne_listings = pd.read_csv('melbourne-2016-01-03-listings.csv')\n",
    "melbourne_reviews = pd.read_csv('melbourne-2016-01-03-reviews.csv')\n",
    "melbourne_calendar = pd.read_csv('melbourne-2016-01-03-calendar.csv')"
   ]
  },
  {
   "cell_type": "code",
   "execution_count": 94,
   "metadata": {},
   "outputs": [
    {
     "data": {
      "text/plain": [
       "((8633, 92), (16149, 92))"
      ]
     },
     "execution_count": 94,
     "metadata": {},
     "output_type": "execute_result"
    }
   ],
   "source": [
    "melbourne_listings.shape, sydney_listings.shape"
   ]
  },
  {
   "cell_type": "code",
   "execution_count": 95,
   "metadata": {},
   "outputs": [
    {
     "data": {
      "text/plain": [
       "((84803, 11), (93239, 11))"
      ]
     },
     "execution_count": 95,
     "metadata": {},
     "output_type": "execute_result"
    }
   ],
   "source": [
    "melbourne_reviews.shape, sydney_reviews.shape"
   ]
  },
  {
   "cell_type": "code",
   "execution_count": 96,
   "metadata": {},
   "outputs": [
    {
     "data": {
      "text/plain": [
       "((3151045, 4), (5894385, 4))"
      ]
     },
     "execution_count": 96,
     "metadata": {},
     "output_type": "execute_result"
    }
   ],
   "source": [
    "melbourne_calendar.shape, sydney_calendar.shape"
   ]
  },
  {
   "cell_type": "code",
   "execution_count": null,
   "metadata": {},
   "outputs": [],
   "source": []
  },
  {
   "cell_type": "code",
   "execution_count": 97,
   "metadata": {},
   "outputs": [],
   "source": [
    "all_listings = pd.concat([sydney_listings, melbourne_listings],\n",
    "                        keys = [1, 2])\n",
    "all_listings.head(2)\n",
    "all_listings.reset_index(level=0, inplace=True)\n",
    "all_listings.rename(columns={'level_0': 'city_index'}, inplace=True)"
   ]
  },
  {
   "cell_type": "code",
   "execution_count": 98,
   "metadata": {},
   "outputs": [
    {
     "data": {
      "text/plain": [
       "(24782, 93)"
      ]
     },
     "execution_count": 98,
     "metadata": {},
     "output_type": "execute_result"
    }
   ],
   "source": [
    "\n",
    "all_listings.head()\n",
    "all_listings.shape"
   ]
  },
  {
   "cell_type": "code",
   "execution_count": 99,
   "metadata": {},
   "outputs": [],
   "source": [
    "all_reviews = pd.concat([sydney_reviews, melbourne_reviews],\n",
    "                        keys = [1, 2])\n",
    "all_reviews.head(2)\n",
    "all_reviews.reset_index(level=0, inplace=True)\n",
    "all_reviews.rename(columns={'level_0': 'city_index'}, inplace=True)"
   ]
  },
  {
   "cell_type": "code",
   "execution_count": 100,
   "metadata": {},
   "outputs": [
    {
     "data": {
      "text/plain": [
       "(178042, 12)"
      ]
     },
     "execution_count": 100,
     "metadata": {},
     "output_type": "execute_result"
    }
   ],
   "source": [
    "all_reviews.shape"
   ]
  },
  {
   "cell_type": "code",
   "execution_count": 101,
   "metadata": {},
   "outputs": [],
   "source": [
    "all_calendar = pd.concat([sydney_calendar, melbourne_calendar],\n",
    "                        keys = [1, 2])\n",
    "all_calendar.head(2)\n",
    "all_calendar.reset_index(level=0, inplace=True)\n",
    "all_calendar.rename(columns={'level_0': 'city_index'}, inplace=True)"
   ]
  },
  {
   "cell_type": "code",
   "execution_count": 102,
   "metadata": {},
   "outputs": [
    {
     "data": {
      "text/plain": [
       "(9045430, 5)"
      ]
     },
     "execution_count": 102,
     "metadata": {},
     "output_type": "execute_result"
    }
   ],
   "source": [
    "all_calendar.shape"
   ]
  },
  {
   "cell_type": "code",
   "execution_count": 103,
   "metadata": {},
   "outputs": [
    {
     "name": "stdout",
     "output_type": "stream",
     "text": [
      "<class 'pandas.core.frame.DataFrame'>\n",
      "Int64Index: 24782 entries, 0 to 8632\n",
      "Data columns (total 93 columns):\n",
      "city_index                          24782 non-null int64\n",
      "id                                  24782 non-null int64\n",
      "listing_url                         24782 non-null object\n",
      "scrape_id                           24782 non-null int64\n",
      "last_scraped                        24782 non-null object\n",
      "name                                24781 non-null object\n",
      "summary                             24009 non-null object\n",
      "space                               18647 non-null object\n",
      "description                         24774 non-null object\n",
      "experiences_offered                 24782 non-null object\n",
      "neighborhood_overview               15748 non-null object\n",
      "notes                               11210 non-null object\n",
      "transit                             16582 non-null object\n",
      "thumbnail_url                       21578 non-null object\n",
      "medium_url                          21578 non-null object\n",
      "picture_url                         24782 non-null object\n",
      "xl_picture_url                      21578 non-null object\n",
      "host_id                             24782 non-null int64\n",
      "host_url                            24782 non-null object\n",
      "host_name                           24778 non-null object\n",
      "host_since                          24778 non-null object\n",
      "host_location                       24719 non-null object\n",
      "host_about                          15574 non-null object\n",
      "host_response_time                  20998 non-null object\n",
      "host_response_rate                  20998 non-null object\n",
      "host_acceptance_rate                19402 non-null object\n",
      "host_is_superhost                   24778 non-null object\n",
      "host_thumbnail_url                  24778 non-null object\n",
      "host_picture_url                    24778 non-null object\n",
      "host_neighbourhood                  17891 non-null object\n",
      "host_listings_count                 24778 non-null float64\n",
      "host_total_listings_count           24778 non-null float64\n",
      "host_verifications                  24782 non-null object\n",
      "host_has_profile_pic                24778 non-null object\n",
      "host_identity_verified              24778 non-null object\n",
      "street                              24782 non-null object\n",
      "neighbourhood                       16868 non-null object\n",
      "neighbourhood_cleansed              24782 non-null object\n",
      "neighbourhood_group_cleansed        0 non-null float64\n",
      "city                                24759 non-null object\n",
      "state                               24780 non-null object\n",
      "zipcode                             24666 non-null object\n",
      "market                              24782 non-null object\n",
      "smart_location                      24782 non-null object\n",
      "country_code                        24782 non-null object\n",
      "country                             24782 non-null object\n",
      "latitude                            24782 non-null float64\n",
      "longitude                           24782 non-null float64\n",
      "is_location_exact                   24782 non-null object\n",
      "property_type                       24782 non-null object\n",
      "room_type                           24782 non-null object\n",
      "accommodates                        24782 non-null int64\n",
      "bathrooms                           24679 non-null float64\n",
      "bedrooms                            24764 non-null float64\n",
      "beds                                24736 non-null float64\n",
      "bed_type                            24782 non-null object\n",
      "amenities                           24782 non-null object\n",
      "square_feet                         752 non-null float64\n",
      "price                               24782 non-null object\n",
      "weekly_price                        11191 non-null object\n",
      "monthly_price                       7456 non-null object\n",
      "security_deposit                    12185 non-null object\n",
      "cleaning_fee                        14866 non-null object\n",
      "guests_included                     24782 non-null int64\n",
      "extra_people                        24782 non-null object\n",
      "minimum_nights                      24782 non-null int64\n",
      "maximum_nights                      24782 non-null int64\n",
      "calendar_updated                    24782 non-null object\n",
      "has_availability                    24782 non-null object\n",
      "availability_30                     24782 non-null int64\n",
      "availability_60                     24782 non-null int64\n",
      "availability_90                     24782 non-null int64\n",
      "availability_365                    24782 non-null int64\n",
      "calendar_last_scraped               24782 non-null object\n",
      "number_of_reviews                   24782 non-null int64\n",
      "first_review                        14670 non-null object\n",
      "last_review                         14670 non-null object\n",
      "review_scores_rating                14238 non-null float64\n",
      "review_scores_accuracy              14079 non-null float64\n",
      "review_scores_cleanliness           14185 non-null float64\n",
      "review_scores_checkin               14081 non-null float64\n",
      "review_scores_communication         14194 non-null float64\n",
      "review_scores_location              14089 non-null float64\n",
      "review_scores_value                 14087 non-null float64\n",
      "requires_license                    24782 non-null object\n",
      "license                             0 non-null float64\n",
      "jurisdiction_names                  0 non-null float64\n",
      "instant_bookable                    24782 non-null object\n",
      "cancellation_policy                 24782 non-null object\n",
      "require_guest_profile_picture       24782 non-null object\n",
      "require_guest_phone_verification    24782 non-null object\n",
      "calculated_host_listings_count      24782 non-null int64\n",
      "reviews_per_month                   14670 non-null float64\n",
      "dtypes: float64(19), int64(14), object(60)\n",
      "memory usage: 17.8+ MB\n"
     ]
    }
   ],
   "source": [
    "all_listings.info()"
   ]
  },
  {
   "cell_type": "code",
   "execution_count": 104,
   "metadata": {},
   "outputs": [
    {
     "data": {
      "text/plain": [
       "['neighbourhood_group_cleansed', 'license', 'jurisdiction_names']"
      ]
     },
     "execution_count": 104,
     "metadata": {},
     "output_type": "execute_result"
    }
   ],
   "source": [
    "unique_nums = all_listings.nunique()\n",
    "masked_columns = [col for col in all_listings.columns if unique_nums[col] == 0]\n",
    "masked_columns"
   ]
  },
  {
   "cell_type": "code",
   "execution_count": 105,
   "metadata": {},
   "outputs": [
    {
     "data": {
      "text/plain": [
       "Counter()"
      ]
     },
     "execution_count": 105,
     "metadata": {},
     "output_type": "execute_result"
    }
   ],
   "source": [
    "Counter(all_listings.license.dropna())"
   ]
  },
  {
   "cell_type": "code",
   "execution_count": 106,
   "metadata": {},
   "outputs": [],
   "source": [
    "masked_columns += ['listing_url', \n",
    "                   'scrape_id', \n",
    "                   'picture_url',\n",
    "                   'medium_url',\n",
    "                   'host_url',\n",
    "                   'thumbnail_url',\n",
    "                   'xl_picture_url',\n",
    "                   'host_thumbnail_url', \n",
    "                   'host_picture_url']"
   ]
  },
  {
   "cell_type": "code",
   "execution_count": 107,
   "metadata": {},
   "outputs": [
    {
     "data": {
      "text/html": [
       "<div>\n",
       "<style scoped>\n",
       "    .dataframe tbody tr th:only-of-type {\n",
       "        vertical-align: middle;\n",
       "    }\n",
       "\n",
       "    .dataframe tbody tr th {\n",
       "        vertical-align: top;\n",
       "    }\n",
       "\n",
       "    .dataframe thead th {\n",
       "        text-align: right;\n",
       "    }\n",
       "</style>\n",
       "<table border=\"1\" class=\"dataframe\">\n",
       "  <thead>\n",
       "    <tr style=\"text-align: right;\">\n",
       "      <th></th>\n",
       "      <th>city_index</th>\n",
       "      <th>id</th>\n",
       "      <th>listing_url</th>\n",
       "      <th>scrape_id</th>\n",
       "      <th>last_scraped</th>\n",
       "      <th>name</th>\n",
       "      <th>summary</th>\n",
       "      <th>space</th>\n",
       "      <th>description</th>\n",
       "      <th>experiences_offered</th>\n",
       "      <th>neighborhood_overview</th>\n",
       "      <th>notes</th>\n",
       "      <th>transit</th>\n",
       "      <th>thumbnail_url</th>\n",
       "      <th>medium_url</th>\n",
       "      <th>picture_url</th>\n",
       "      <th>xl_picture_url</th>\n",
       "      <th>host_id</th>\n",
       "      <th>host_url</th>\n",
       "      <th>host_name</th>\n",
       "      <th>host_since</th>\n",
       "      <th>host_location</th>\n",
       "      <th>host_about</th>\n",
       "      <th>host_response_time</th>\n",
       "      <th>host_response_rate</th>\n",
       "      <th>host_acceptance_rate</th>\n",
       "      <th>host_is_superhost</th>\n",
       "      <th>host_thumbnail_url</th>\n",
       "      <th>host_picture_url</th>\n",
       "      <th>host_neighbourhood</th>\n",
       "      <th>host_listings_count</th>\n",
       "      <th>host_total_listings_count</th>\n",
       "      <th>host_verifications</th>\n",
       "      <th>host_has_profile_pic</th>\n",
       "      <th>host_identity_verified</th>\n",
       "      <th>street</th>\n",
       "      <th>neighbourhood</th>\n",
       "      <th>neighbourhood_cleansed</th>\n",
       "      <th>neighbourhood_group_cleansed</th>\n",
       "      <th>city</th>\n",
       "      <th>state</th>\n",
       "      <th>zipcode</th>\n",
       "      <th>market</th>\n",
       "      <th>smart_location</th>\n",
       "      <th>country_code</th>\n",
       "      <th>country</th>\n",
       "      <th>latitude</th>\n",
       "      <th>longitude</th>\n",
       "      <th>is_location_exact</th>\n",
       "      <th>property_type</th>\n",
       "      <th>room_type</th>\n",
       "      <th>accommodates</th>\n",
       "      <th>bathrooms</th>\n",
       "      <th>bedrooms</th>\n",
       "      <th>beds</th>\n",
       "      <th>bed_type</th>\n",
       "      <th>amenities</th>\n",
       "      <th>square_feet</th>\n",
       "      <th>price</th>\n",
       "      <th>weekly_price</th>\n",
       "      <th>monthly_price</th>\n",
       "      <th>security_deposit</th>\n",
       "      <th>cleaning_fee</th>\n",
       "      <th>guests_included</th>\n",
       "      <th>extra_people</th>\n",
       "      <th>minimum_nights</th>\n",
       "      <th>maximum_nights</th>\n",
       "      <th>calendar_updated</th>\n",
       "      <th>has_availability</th>\n",
       "      <th>availability_30</th>\n",
       "      <th>availability_60</th>\n",
       "      <th>availability_90</th>\n",
       "      <th>availability_365</th>\n",
       "      <th>calendar_last_scraped</th>\n",
       "      <th>number_of_reviews</th>\n",
       "      <th>first_review</th>\n",
       "      <th>last_review</th>\n",
       "      <th>review_scores_rating</th>\n",
       "      <th>review_scores_accuracy</th>\n",
       "      <th>review_scores_cleanliness</th>\n",
       "      <th>review_scores_checkin</th>\n",
       "      <th>review_scores_communication</th>\n",
       "      <th>review_scores_location</th>\n",
       "      <th>review_scores_value</th>\n",
       "      <th>requires_license</th>\n",
       "      <th>license</th>\n",
       "      <th>jurisdiction_names</th>\n",
       "      <th>instant_bookable</th>\n",
       "      <th>cancellation_policy</th>\n",
       "      <th>require_guest_profile_picture</th>\n",
       "      <th>require_guest_phone_verification</th>\n",
       "      <th>calculated_host_listings_count</th>\n",
       "      <th>reviews_per_month</th>\n",
       "    </tr>\n",
       "  </thead>\n",
       "  <tbody>\n",
       "    <tr>\n",
       "      <th>0</th>\n",
       "      <td>1</td>\n",
       "      <td>9814837</td>\n",
       "      <td>https://www.airbnb.com/rooms/9814837</td>\n",
       "      <td>20160103104543</td>\n",
       "      <td>2016-01-03</td>\n",
       "      <td>Near Auburn Station</td>\n",
       "      <td>Share 1 bathroom, 2 toilets with family. Walk ...</td>\n",
       "      <td>NaN</td>\n",
       "      <td>Share 1 bathroom, 2 toilets with family. Walk ...</td>\n",
       "      <td>none</td>\n",
       "      <td>NaN</td>\n",
       "      <td>NaN</td>\n",
       "      <td>Near railway station. Take train to CBD 26-34m...</td>\n",
       "      <td>https://a2.muscache.com/ac/pictures/b9dcfdad-1...</td>\n",
       "      <td>https://a2.muscache.com/im/pictures/b9dcfdad-1...</td>\n",
       "      <td>https://a2.muscache.com/ac/pictures/b9dcfdad-1...</td>\n",
       "      <td>https://a2.muscache.com/ac/pictures/b9dcfdad-1...</td>\n",
       "      <td>47437319</td>\n",
       "      <td>https://www.airbnb.com/users/show/47437319</td>\n",
       "      <td>Fang</td>\n",
       "      <td>2015-10-26</td>\n",
       "      <td>AU</td>\n",
       "      <td>NaN</td>\n",
       "      <td>within an hour</td>\n",
       "      <td>92%</td>\n",
       "      <td>67%</td>\n",
       "      <td>f</td>\n",
       "      <td>https://a2.muscache.com/ac/pictures/6cde530c-a...</td>\n",
       "      <td>https://a2.muscache.com/ac/pictures/6cde530c-a...</td>\n",
       "      <td>Auburn</td>\n",
       "      <td>3.0</td>\n",
       "      <td>3.0</td>\n",
       "      <td>['email', 'phone', 'reviews', 'weibo', 'jumio']</td>\n",
       "      <td>t</td>\n",
       "      <td>t</td>\n",
       "      <td>Northcote St, Auburn, New South Wales 2144, Au...</td>\n",
       "      <td>NaN</td>\n",
       "      <td>Auburn</td>\n",
       "      <td>NaN</td>\n",
       "      <td>Auburn</td>\n",
       "      <td>New South Wales</td>\n",
       "      <td>2144</td>\n",
       "      <td>Sydney</td>\n",
       "      <td>Auburn, Australia</td>\n",
       "      <td>AU</td>\n",
       "      <td>Australia</td>\n",
       "      <td>-33.848778</td>\n",
       "      <td>151.027923</td>\n",
       "      <td>f</td>\n",
       "      <td>House</td>\n",
       "      <td>Private room</td>\n",
       "      <td>2</td>\n",
       "      <td>1.0</td>\n",
       "      <td>1.0</td>\n",
       "      <td>1.0</td>\n",
       "      <td>Real Bed</td>\n",
       "      <td>{}</td>\n",
       "      <td>NaN</td>\n",
       "      <td>$60.00</td>\n",
       "      <td>$280.00</td>\n",
       "      <td>NaN</td>\n",
       "      <td>NaN</td>\n",
       "      <td>$10.00</td>\n",
       "      <td>1</td>\n",
       "      <td>$0.00</td>\n",
       "      <td>4</td>\n",
       "      <td>1125</td>\n",
       "      <td>3 weeks ago</td>\n",
       "      <td>t</td>\n",
       "      <td>0</td>\n",
       "      <td>0</td>\n",
       "      <td>0</td>\n",
       "      <td>274</td>\n",
       "      <td>2016-01-03</td>\n",
       "      <td>0</td>\n",
       "      <td>NaN</td>\n",
       "      <td>NaN</td>\n",
       "      <td>NaN</td>\n",
       "      <td>NaN</td>\n",
       "      <td>NaN</td>\n",
       "      <td>NaN</td>\n",
       "      <td>NaN</td>\n",
       "      <td>NaN</td>\n",
       "      <td>NaN</td>\n",
       "      <td>f</td>\n",
       "      <td>NaN</td>\n",
       "      <td>NaN</td>\n",
       "      <td>f</td>\n",
       "      <td>strict</td>\n",
       "      <td>f</td>\n",
       "      <td>f</td>\n",
       "      <td>3</td>\n",
       "      <td>NaN</td>\n",
       "    </tr>\n",
       "    <tr>\n",
       "      <th>1</th>\n",
       "      <td>1</td>\n",
       "      <td>4343438</td>\n",
       "      <td>https://www.airbnb.com/rooms/4343438</td>\n",
       "      <td>20160103104543</td>\n",
       "      <td>2016-01-03</td>\n",
       "      <td>Nikita &amp; Rusty Home</td>\n",
       "      <td>We welcome you to share 1 bedroom in our 3 bed...</td>\n",
       "      <td>Your room is a spacious master bedroom includi...</td>\n",
       "      <td>We welcome you to share 1 bedroom in our 3 bed...</td>\n",
       "      <td>none</td>\n",
       "      <td>*Olympic park, ANZ Stadium &amp; Allphones arena w...</td>\n",
       "      <td>Breakfast/ Dinner available for an additional ...</td>\n",
       "      <td>All the transports are available and very freq...</td>\n",
       "      <td>https://a0.muscache.com/ac/pictures/110247742/...</td>\n",
       "      <td>https://a0.muscache.com/im/pictures/110247742/...</td>\n",
       "      <td>https://a0.muscache.com/ac/pictures/110247742/...</td>\n",
       "      <td>https://a0.muscache.com/ac/pictures/110247742/...</td>\n",
       "      <td>22265744</td>\n",
       "      <td>https://www.airbnb.com/users/show/22265744</td>\n",
       "      <td>Nikita</td>\n",
       "      <td>2014-10-08</td>\n",
       "      <td>NSW, Australia</td>\n",
       "      <td>We are a young Indian working couple and we lo...</td>\n",
       "      <td>within an hour</td>\n",
       "      <td>90%</td>\n",
       "      <td>55%</td>\n",
       "      <td>f</td>\n",
       "      <td>https://a2.muscache.com/ac/pictures/fdaa4d70-f...</td>\n",
       "      <td>https://a2.muscache.com/ac/pictures/fdaa4d70-f...</td>\n",
       "      <td>North Strathfield/Concord West</td>\n",
       "      <td>3.0</td>\n",
       "      <td>3.0</td>\n",
       "      <td>['email', 'phone', 'reviews']</td>\n",
       "      <td>t</td>\n",
       "      <td>f</td>\n",
       "      <td>Wentworth Drive, Liberty Grove, NSW 2138, Aust...</td>\n",
       "      <td>NaN</td>\n",
       "      <td>Auburn</td>\n",
       "      <td>NaN</td>\n",
       "      <td>Liberty Grove</td>\n",
       "      <td>NSW</td>\n",
       "      <td>2138</td>\n",
       "      <td>Sydney</td>\n",
       "      <td>Liberty Grove, Australia</td>\n",
       "      <td>AU</td>\n",
       "      <td>Australia</td>\n",
       "      <td>-33.839719</td>\n",
       "      <td>151.080003</td>\n",
       "      <td>t</td>\n",
       "      <td>Apartment</td>\n",
       "      <td>Private room</td>\n",
       "      <td>2</td>\n",
       "      <td>1.0</td>\n",
       "      <td>1.0</td>\n",
       "      <td>1.0</td>\n",
       "      <td>Real Bed</td>\n",
       "      <td>{TV,Internet,\"Wireless Internet\",Pool,\"Free Pa...</td>\n",
       "      <td>NaN</td>\n",
       "      <td>$100.00</td>\n",
       "      <td>NaN</td>\n",
       "      <td>NaN</td>\n",
       "      <td>NaN</td>\n",
       "      <td>NaN</td>\n",
       "      <td>2</td>\n",
       "      <td>$0.00</td>\n",
       "      <td>1</td>\n",
       "      <td>1125</td>\n",
       "      <td>2 months ago</td>\n",
       "      <td>t</td>\n",
       "      <td>20</td>\n",
       "      <td>50</td>\n",
       "      <td>80</td>\n",
       "      <td>347</td>\n",
       "      <td>2016-01-03</td>\n",
       "      <td>16</td>\n",
       "      <td>2014-10-31</td>\n",
       "      <td>2015-11-07</td>\n",
       "      <td>95.0</td>\n",
       "      <td>10.0</td>\n",
       "      <td>10.0</td>\n",
       "      <td>10.0</td>\n",
       "      <td>10.0</td>\n",
       "      <td>10.0</td>\n",
       "      <td>9.0</td>\n",
       "      <td>f</td>\n",
       "      <td>NaN</td>\n",
       "      <td>NaN</td>\n",
       "      <td>f</td>\n",
       "      <td>moderate</td>\n",
       "      <td>f</td>\n",
       "      <td>f</td>\n",
       "      <td>2</td>\n",
       "      <td>1.12</td>\n",
       "    </tr>\n",
       "    <tr>\n",
       "      <th>2</th>\n",
       "      <td>1</td>\n",
       "      <td>1295993</td>\n",
       "      <td>https://www.airbnb.com/rooms/1295993</td>\n",
       "      <td>20160103104543</td>\n",
       "      <td>2016-01-03</td>\n",
       "      <td>Large &amp; modern room- 25 mins to CBD</td>\n",
       "      <td>I'm going to Europe for 3 months so the big be...</td>\n",
       "      <td>Welcome to your very own immaculate and modern...</td>\n",
       "      <td>I'm going to Europe for 3 months so the big be...</td>\n",
       "      <td>none</td>\n",
       "      <td>NaN</td>\n",
       "      <td>NaN</td>\n",
       "      <td>NaN</td>\n",
       "      <td>https://a1.muscache.com/ac/pictures/19572200/f...</td>\n",
       "      <td>https://a1.muscache.com/im/pictures/19572200/f...</td>\n",
       "      <td>https://a1.muscache.com/ac/pictures/19572200/f...</td>\n",
       "      <td>https://a1.muscache.com/ac/pictures/19572200/f...</td>\n",
       "      <td>1936414</td>\n",
       "      <td>https://www.airbnb.com/users/show/1936414</td>\n",
       "      <td>Desi</td>\n",
       "      <td>2012-03-16</td>\n",
       "      <td>Auburn, New South Wales, Australia</td>\n",
       "      <td>28 years old professional from Eastern Europe....</td>\n",
       "      <td>within a few hours</td>\n",
       "      <td>100%</td>\n",
       "      <td>80%</td>\n",
       "      <td>f</td>\n",
       "      <td>https://a0.muscache.com/ac/users/1936414/profi...</td>\n",
       "      <td>https://a0.muscache.com/ac/users/1936414/profi...</td>\n",
       "      <td>Auburn</td>\n",
       "      <td>3.0</td>\n",
       "      <td>3.0</td>\n",
       "      <td>['email', 'phone', 'reviews']</td>\n",
       "      <td>t</td>\n",
       "      <td>f</td>\n",
       "      <td>Marion Street, Auburn, NSW 2144, Australia</td>\n",
       "      <td>Auburn</td>\n",
       "      <td>Auburn</td>\n",
       "      <td>NaN</td>\n",
       "      <td>Auburn</td>\n",
       "      <td>NSW</td>\n",
       "      <td>2144</td>\n",
       "      <td>Sydney</td>\n",
       "      <td>Auburn, Australia</td>\n",
       "      <td>AU</td>\n",
       "      <td>Australia</td>\n",
       "      <td>-33.852699</td>\n",
       "      <td>151.034988</td>\n",
       "      <td>t</td>\n",
       "      <td>Apartment</td>\n",
       "      <td>Private room</td>\n",
       "      <td>2</td>\n",
       "      <td>1.0</td>\n",
       "      <td>1.0</td>\n",
       "      <td>1.0</td>\n",
       "      <td>Real Bed</td>\n",
       "      <td>{TV,\"Air Conditioning\",Pool,Kitchen,\"Free Park...</td>\n",
       "      <td>NaN</td>\n",
       "      <td>$59.00</td>\n",
       "      <td>$300.00</td>\n",
       "      <td>$1,000.00</td>\n",
       "      <td>NaN</td>\n",
       "      <td>NaN</td>\n",
       "      <td>1</td>\n",
       "      <td>$0.00</td>\n",
       "      <td>1</td>\n",
       "      <td>1125</td>\n",
       "      <td>1 week ago</td>\n",
       "      <td>t</td>\n",
       "      <td>14</td>\n",
       "      <td>26</td>\n",
       "      <td>26</td>\n",
       "      <td>171</td>\n",
       "      <td>2016-01-03</td>\n",
       "      <td>7</td>\n",
       "      <td>2013-07-29</td>\n",
       "      <td>2016-01-02</td>\n",
       "      <td>89.0</td>\n",
       "      <td>6.0</td>\n",
       "      <td>7.0</td>\n",
       "      <td>9.0</td>\n",
       "      <td>10.0</td>\n",
       "      <td>8.0</td>\n",
       "      <td>9.0</td>\n",
       "      <td>f</td>\n",
       "      <td>NaN</td>\n",
       "      <td>NaN</td>\n",
       "      <td>f</td>\n",
       "      <td>flexible</td>\n",
       "      <td>f</td>\n",
       "      <td>f</td>\n",
       "      <td>2</td>\n",
       "      <td>0.24</td>\n",
       "    </tr>\n",
       "    <tr>\n",
       "      <th>3</th>\n",
       "      <td>1</td>\n",
       "      <td>9651483</td>\n",
       "      <td>https://www.airbnb.com/rooms/9651483</td>\n",
       "      <td>20160103104543</td>\n",
       "      <td>2016-01-03</td>\n",
       "      <td>Entire apartment 2mins from station</td>\n",
       "      <td>Hi, this space is available from 22/12 to 26/1...</td>\n",
       "      <td>NaN</td>\n",
       "      <td>Hi, this space is available from 22/12 to 26/1...</td>\n",
       "      <td>none</td>\n",
       "      <td>NaN</td>\n",
       "      <td>NaN</td>\n",
       "      <td>2 minutes walk to the closest station</td>\n",
       "      <td>https://a2.muscache.com/ac/pictures/69e55c50-5...</td>\n",
       "      <td>https://a2.muscache.com/im/pictures/69e55c50-5...</td>\n",
       "      <td>https://a2.muscache.com/ac/pictures/69e55c50-5...</td>\n",
       "      <td>https://a2.muscache.com/ac/pictures/69e55c50-5...</td>\n",
       "      <td>27832988</td>\n",
       "      <td>https://www.airbnb.com/users/show/27832988</td>\n",
       "      <td>Yvonne</td>\n",
       "      <td>2015-02-16</td>\n",
       "      <td>Sydney, New South Wales, Australia</td>\n",
       "      <td>NaN</td>\n",
       "      <td>within an hour</td>\n",
       "      <td>100%</td>\n",
       "      <td>100%</td>\n",
       "      <td>f</td>\n",
       "      <td>https://a2.muscache.com/ac/pictures/68d127a1-5...</td>\n",
       "      <td>https://a2.muscache.com/ac/pictures/68d127a1-5...</td>\n",
       "      <td>Lidcombe</td>\n",
       "      <td>1.0</td>\n",
       "      <td>1.0</td>\n",
       "      <td>['email', 'phone', 'facebook', 'reviews', 'jum...</td>\n",
       "      <td>t</td>\n",
       "      <td>t</td>\n",
       "      <td>Church Street, Lidcombe, NSW 2141, Australia</td>\n",
       "      <td>Lidcombe</td>\n",
       "      <td>Auburn</td>\n",
       "      <td>NaN</td>\n",
       "      <td>Lidcombe</td>\n",
       "      <td>NSW</td>\n",
       "      <td>2141</td>\n",
       "      <td>Sydney</td>\n",
       "      <td>Lidcombe, Australia</td>\n",
       "      <td>AU</td>\n",
       "      <td>Australia</td>\n",
       "      <td>-33.864232</td>\n",
       "      <td>151.045375</td>\n",
       "      <td>t</td>\n",
       "      <td>Apartment</td>\n",
       "      <td>Entire home/apt</td>\n",
       "      <td>4</td>\n",
       "      <td>1.0</td>\n",
       "      <td>2.0</td>\n",
       "      <td>2.0</td>\n",
       "      <td>Real Bed</td>\n",
       "      <td>{TV,\"Wireless Internet\",\"Elevator in Building\"...</td>\n",
       "      <td>NaN</td>\n",
       "      <td>$180.00</td>\n",
       "      <td>NaN</td>\n",
       "      <td>NaN</td>\n",
       "      <td>$200.00</td>\n",
       "      <td>$70.00</td>\n",
       "      <td>1</td>\n",
       "      <td>$0.00</td>\n",
       "      <td>4</td>\n",
       "      <td>4</td>\n",
       "      <td>4 weeks ago</td>\n",
       "      <td>t</td>\n",
       "      <td>0</td>\n",
       "      <td>0</td>\n",
       "      <td>28</td>\n",
       "      <td>29</td>\n",
       "      <td>2016-01-03</td>\n",
       "      <td>0</td>\n",
       "      <td>NaN</td>\n",
       "      <td>NaN</td>\n",
       "      <td>NaN</td>\n",
       "      <td>NaN</td>\n",
       "      <td>NaN</td>\n",
       "      <td>NaN</td>\n",
       "      <td>NaN</td>\n",
       "      <td>NaN</td>\n",
       "      <td>NaN</td>\n",
       "      <td>f</td>\n",
       "      <td>NaN</td>\n",
       "      <td>NaN</td>\n",
       "      <td>f</td>\n",
       "      <td>strict</td>\n",
       "      <td>f</td>\n",
       "      <td>f</td>\n",
       "      <td>1</td>\n",
       "      <td>NaN</td>\n",
       "    </tr>\n",
       "    <tr>\n",
       "      <th>4</th>\n",
       "      <td>1</td>\n",
       "      <td>1477506</td>\n",
       "      <td>https://www.airbnb.com/rooms/1477506</td>\n",
       "      <td>20160103104543</td>\n",
       "      <td>2016-01-03</td>\n",
       "      <td>Sydney Great Home @ Olympic Park</td>\n",
       "      <td>2 rooms with a good quality queen bed to be re...</td>\n",
       "      <td>A great place to stay if you come to Sydney fo...</td>\n",
       "      <td>2 rooms with a good quality queen bed to be re...</td>\n",
       "      <td>none</td>\n",
       "      <td>NaN</td>\n",
       "      <td>NaN</td>\n",
       "      <td>NaN</td>\n",
       "      <td>https://a0.muscache.com/ac/pictures/21842981/1...</td>\n",
       "      <td>https://a0.muscache.com/im/pictures/21842981/1...</td>\n",
       "      <td>https://a0.muscache.com/ac/pictures/21842981/1...</td>\n",
       "      <td>https://a0.muscache.com/ac/pictures/21842981/1...</td>\n",
       "      <td>1526109</td>\n",
       "      <td>https://www.airbnb.com/users/show/1526109</td>\n",
       "      <td>Andrew</td>\n",
       "      <td>2011-12-21</td>\n",
       "      <td>Sydney Olympic Park, New South Wales, Australia</td>\n",
       "      <td>I am married, well educated, warm, sincere, ho...</td>\n",
       "      <td>within an hour</td>\n",
       "      <td>100%</td>\n",
       "      <td>93%</td>\n",
       "      <td>t</td>\n",
       "      <td>https://a0.muscache.com/ac/users/1526109/profi...</td>\n",
       "      <td>https://a0.muscache.com/ac/users/1526109/profi...</td>\n",
       "      <td>Silverwater/Newington</td>\n",
       "      <td>2.0</td>\n",
       "      <td>2.0</td>\n",
       "      <td>['email', 'phone', 'facebook', 'reviews', 'jum...</td>\n",
       "      <td>t</td>\n",
       "      <td>t</td>\n",
       "      <td>Curlew Avenue, Newington, NSW 2127, Australia</td>\n",
       "      <td>Silverwater/Newington</td>\n",
       "      <td>Auburn</td>\n",
       "      <td>NaN</td>\n",
       "      <td>Newington</td>\n",
       "      <td>NSW</td>\n",
       "      <td>2127</td>\n",
       "      <td>Sydney</td>\n",
       "      <td>Newington, Australia</td>\n",
       "      <td>AU</td>\n",
       "      <td>Australia</td>\n",
       "      <td>-33.836162</td>\n",
       "      <td>151.057621</td>\n",
       "      <td>t</td>\n",
       "      <td>House</td>\n",
       "      <td>Private room</td>\n",
       "      <td>2</td>\n",
       "      <td>1.0</td>\n",
       "      <td>1.0</td>\n",
       "      <td>1.0</td>\n",
       "      <td>Real Bed</td>\n",
       "      <td>{TV,Internet,\"Wireless Internet\",\"Air Conditio...</td>\n",
       "      <td>NaN</td>\n",
       "      <td>$85.00</td>\n",
       "      <td>$575.00</td>\n",
       "      <td>$2,191.00</td>\n",
       "      <td>NaN</td>\n",
       "      <td>$15.00</td>\n",
       "      <td>1</td>\n",
       "      <td>$0.00</td>\n",
       "      <td>1</td>\n",
       "      <td>365</td>\n",
       "      <td>5 days ago</td>\n",
       "      <td>t</td>\n",
       "      <td>30</td>\n",
       "      <td>60</td>\n",
       "      <td>90</td>\n",
       "      <td>365</td>\n",
       "      <td>2016-01-03</td>\n",
       "      <td>39</td>\n",
       "      <td>2013-09-07</td>\n",
       "      <td>2015-12-01</td>\n",
       "      <td>98.0</td>\n",
       "      <td>10.0</td>\n",
       "      <td>10.0</td>\n",
       "      <td>10.0</td>\n",
       "      <td>10.0</td>\n",
       "      <td>10.0</td>\n",
       "      <td>9.0</td>\n",
       "      <td>f</td>\n",
       "      <td>NaN</td>\n",
       "      <td>NaN</td>\n",
       "      <td>f</td>\n",
       "      <td>strict</td>\n",
       "      <td>t</td>\n",
       "      <td>t</td>\n",
       "      <td>2</td>\n",
       "      <td>1.38</td>\n",
       "    </tr>\n",
       "  </tbody>\n",
       "</table>\n",
       "</div>"
      ],
      "text/plain": [
       "   city_index       id                           listing_url       scrape_id last_scraped                                 name                                            summary                                              space                                        description experiences_offered                              neighborhood_overview                                              notes                                            transit                                      thumbnail_url                                         medium_url                                        picture_url                                     xl_picture_url   host_id                                    host_url host_name  host_since                                    host_location                                         host_about  host_response_time host_response_rate host_acceptance_rate host_is_superhost                                 host_thumbnail_url  \\\n",
       "0           1  9814837  https://www.airbnb.com/rooms/9814837  20160103104543   2016-01-03                  Near Auburn Station  Share 1 bathroom, 2 toilets with family. Walk ...                                                NaN  Share 1 bathroom, 2 toilets with family. Walk ...                none                                                NaN                                                NaN  Near railway station. Take train to CBD 26-34m...  https://a2.muscache.com/ac/pictures/b9dcfdad-1...  https://a2.muscache.com/im/pictures/b9dcfdad-1...  https://a2.muscache.com/ac/pictures/b9dcfdad-1...  https://a2.muscache.com/ac/pictures/b9dcfdad-1...  47437319  https://www.airbnb.com/users/show/47437319      Fang  2015-10-26                                               AU                                                NaN      within an hour                92%                  67%                 f  https://a2.muscache.com/ac/pictures/6cde530c-a...   \n",
       "1           1  4343438  https://www.airbnb.com/rooms/4343438  20160103104543   2016-01-03                  Nikita & Rusty Home  We welcome you to share 1 bedroom in our 3 bed...  Your room is a spacious master bedroom includi...  We welcome you to share 1 bedroom in our 3 bed...                none  *Olympic park, ANZ Stadium & Allphones arena w...  Breakfast/ Dinner available for an additional ...  All the transports are available and very freq...  https://a0.muscache.com/ac/pictures/110247742/...  https://a0.muscache.com/im/pictures/110247742/...  https://a0.muscache.com/ac/pictures/110247742/...  https://a0.muscache.com/ac/pictures/110247742/...  22265744  https://www.airbnb.com/users/show/22265744    Nikita  2014-10-08                                   NSW, Australia  We are a young Indian working couple and we lo...      within an hour                90%                  55%                 f  https://a2.muscache.com/ac/pictures/fdaa4d70-f...   \n",
       "2           1  1295993  https://www.airbnb.com/rooms/1295993  20160103104543   2016-01-03  Large & modern room- 25 mins to CBD  I'm going to Europe for 3 months so the big be...  Welcome to your very own immaculate and modern...  I'm going to Europe for 3 months so the big be...                none                                                NaN                                                NaN                                                NaN  https://a1.muscache.com/ac/pictures/19572200/f...  https://a1.muscache.com/im/pictures/19572200/f...  https://a1.muscache.com/ac/pictures/19572200/f...  https://a1.muscache.com/ac/pictures/19572200/f...   1936414   https://www.airbnb.com/users/show/1936414      Desi  2012-03-16               Auburn, New South Wales, Australia  28 years old professional from Eastern Europe....  within a few hours               100%                  80%                 f  https://a0.muscache.com/ac/users/1936414/profi...   \n",
       "3           1  9651483  https://www.airbnb.com/rooms/9651483  20160103104543   2016-01-03  Entire apartment 2mins from station  Hi, this space is available from 22/12 to 26/1...                                                NaN  Hi, this space is available from 22/12 to 26/1...                none                                                NaN                                                NaN              2 minutes walk to the closest station  https://a2.muscache.com/ac/pictures/69e55c50-5...  https://a2.muscache.com/im/pictures/69e55c50-5...  https://a2.muscache.com/ac/pictures/69e55c50-5...  https://a2.muscache.com/ac/pictures/69e55c50-5...  27832988  https://www.airbnb.com/users/show/27832988    Yvonne  2015-02-16               Sydney, New South Wales, Australia                                                NaN      within an hour               100%                 100%                 f  https://a2.muscache.com/ac/pictures/68d127a1-5...   \n",
       "4           1  1477506  https://www.airbnb.com/rooms/1477506  20160103104543   2016-01-03     Sydney Great Home @ Olympic Park  2 rooms with a good quality queen bed to be re...  A great place to stay if you come to Sydney fo...  2 rooms with a good quality queen bed to be re...                none                                                NaN                                                NaN                                                NaN  https://a0.muscache.com/ac/pictures/21842981/1...  https://a0.muscache.com/im/pictures/21842981/1...  https://a0.muscache.com/ac/pictures/21842981/1...  https://a0.muscache.com/ac/pictures/21842981/1...   1526109   https://www.airbnb.com/users/show/1526109    Andrew  2011-12-21  Sydney Olympic Park, New South Wales, Australia  I am married, well educated, warm, sincere, ho...      within an hour               100%                  93%                 t  https://a0.muscache.com/ac/users/1526109/profi...   \n",
       "\n",
       "                                    host_picture_url              host_neighbourhood  host_listings_count  host_total_listings_count                                 host_verifications host_has_profile_pic host_identity_verified                                             street          neighbourhood neighbourhood_cleansed  neighbourhood_group_cleansed           city            state zipcode  market            smart_location country_code    country   latitude   longitude is_location_exact property_type        room_type  accommodates  bathrooms  bedrooms  beds  bed_type                                          amenities  square_feet    price weekly_price monthly_price security_deposit cleaning_fee  guests_included extra_people  minimum_nights  maximum_nights calendar_updated has_availability  availability_30  availability_60  availability_90  availability_365 calendar_last_scraped  number_of_reviews first_review last_review  review_scores_rating  review_scores_accuracy  \\\n",
       "0  https://a2.muscache.com/ac/pictures/6cde530c-a...                          Auburn                  3.0                        3.0    ['email', 'phone', 'reviews', 'weibo', 'jumio']                    t                      t  Northcote St, Auburn, New South Wales 2144, Au...                    NaN                 Auburn                           NaN         Auburn  New South Wales    2144  Sydney         Auburn, Australia           AU  Australia -33.848778  151.027923                 f         House     Private room             2        1.0       1.0   1.0  Real Bed                                                 {}          NaN   $60.00      $280.00           NaN              NaN       $10.00                1        $0.00               4            1125      3 weeks ago                t                0                0                0               274            2016-01-03                  0          NaN         NaN                   NaN                     NaN   \n",
       "1  https://a2.muscache.com/ac/pictures/fdaa4d70-f...  North Strathfield/Concord West                  3.0                        3.0                      ['email', 'phone', 'reviews']                    t                      f  Wentworth Drive, Liberty Grove, NSW 2138, Aust...                    NaN                 Auburn                           NaN  Liberty Grove              NSW    2138  Sydney  Liberty Grove, Australia           AU  Australia -33.839719  151.080003                 t     Apartment     Private room             2        1.0       1.0   1.0  Real Bed  {TV,Internet,\"Wireless Internet\",Pool,\"Free Pa...          NaN  $100.00          NaN           NaN              NaN          NaN                2        $0.00               1            1125     2 months ago                t               20               50               80               347            2016-01-03                 16   2014-10-31  2015-11-07                  95.0                    10.0   \n",
       "2  https://a0.muscache.com/ac/users/1936414/profi...                          Auburn                  3.0                        3.0                      ['email', 'phone', 'reviews']                    t                      f         Marion Street, Auburn, NSW 2144, Australia                 Auburn                 Auburn                           NaN         Auburn              NSW    2144  Sydney         Auburn, Australia           AU  Australia -33.852699  151.034988                 t     Apartment     Private room             2        1.0       1.0   1.0  Real Bed  {TV,\"Air Conditioning\",Pool,Kitchen,\"Free Park...          NaN   $59.00      $300.00     $1,000.00              NaN          NaN                1        $0.00               1            1125       1 week ago                t               14               26               26               171            2016-01-03                  7   2013-07-29  2016-01-02                  89.0                     6.0   \n",
       "3  https://a2.muscache.com/ac/pictures/68d127a1-5...                        Lidcombe                  1.0                        1.0  ['email', 'phone', 'facebook', 'reviews', 'jum...                    t                      t       Church Street, Lidcombe, NSW 2141, Australia               Lidcombe                 Auburn                           NaN       Lidcombe              NSW    2141  Sydney       Lidcombe, Australia           AU  Australia -33.864232  151.045375                 t     Apartment  Entire home/apt             4        1.0       2.0   2.0  Real Bed  {TV,\"Wireless Internet\",\"Elevator in Building\"...          NaN  $180.00          NaN           NaN          $200.00       $70.00                1        $0.00               4               4      4 weeks ago                t                0                0               28                29            2016-01-03                  0          NaN         NaN                   NaN                     NaN   \n",
       "4  https://a0.muscache.com/ac/users/1526109/profi...           Silverwater/Newington                  2.0                        2.0  ['email', 'phone', 'facebook', 'reviews', 'jum...                    t                      t      Curlew Avenue, Newington, NSW 2127, Australia  Silverwater/Newington                 Auburn                           NaN      Newington              NSW    2127  Sydney      Newington, Australia           AU  Australia -33.836162  151.057621                 t         House     Private room             2        1.0       1.0   1.0  Real Bed  {TV,Internet,\"Wireless Internet\",\"Air Conditio...          NaN   $85.00      $575.00     $2,191.00              NaN       $15.00                1        $0.00               1             365       5 days ago                t               30               60               90               365            2016-01-03                 39   2013-09-07  2015-12-01                  98.0                    10.0   \n",
       "\n",
       "   review_scores_cleanliness  review_scores_checkin  review_scores_communication  review_scores_location  review_scores_value requires_license  license  jurisdiction_names instant_bookable cancellation_policy require_guest_profile_picture require_guest_phone_verification  calculated_host_listings_count  reviews_per_month  \n",
       "0                        NaN                    NaN                          NaN                     NaN                  NaN                f      NaN                 NaN                f              strict                             f                                f                               3                NaN  \n",
       "1                       10.0                   10.0                         10.0                    10.0                  9.0                f      NaN                 NaN                f            moderate                             f                                f                               2               1.12  \n",
       "2                        7.0                    9.0                         10.0                     8.0                  9.0                f      NaN                 NaN                f            flexible                             f                                f                               2               0.24  \n",
       "3                        NaN                    NaN                          NaN                     NaN                  NaN                f      NaN                 NaN                f              strict                             f                                f                               1                NaN  \n",
       "4                       10.0                   10.0                         10.0                    10.0                  9.0                f      NaN                 NaN                f              strict                             t                                t                               2               1.38  "
      ]
     },
     "execution_count": 107,
     "metadata": {},
     "output_type": "execute_result"
    }
   ],
   "source": [
    "\n",
    "all_listings.head(5)"
   ]
  },
  {
   "cell_type": "code",
   "execution_count": 108,
   "metadata": {},
   "outputs": [],
   "source": [
    "all_listings.drop(masked_columns, axis=1, inplace=True)"
   ]
  },
  {
   "cell_type": "code",
   "execution_count": 109,
   "metadata": {},
   "outputs": [
    {
     "data": {
      "text/html": [
       "<div>\n",
       "<style scoped>\n",
       "    .dataframe tbody tr th:only-of-type {\n",
       "        vertical-align: middle;\n",
       "    }\n",
       "\n",
       "    .dataframe tbody tr th {\n",
       "        vertical-align: top;\n",
       "    }\n",
       "\n",
       "    .dataframe thead th {\n",
       "        text-align: right;\n",
       "    }\n",
       "</style>\n",
       "<table border=\"1\" class=\"dataframe\">\n",
       "  <thead>\n",
       "    <tr style=\"text-align: right;\">\n",
       "      <th></th>\n",
       "      <th>city_index</th>\n",
       "      <th>id</th>\n",
       "      <th>last_scraped</th>\n",
       "      <th>name</th>\n",
       "      <th>summary</th>\n",
       "      <th>space</th>\n",
       "      <th>description</th>\n",
       "      <th>experiences_offered</th>\n",
       "      <th>neighborhood_overview</th>\n",
       "      <th>notes</th>\n",
       "      <th>transit</th>\n",
       "      <th>host_id</th>\n",
       "      <th>host_name</th>\n",
       "      <th>host_since</th>\n",
       "      <th>host_location</th>\n",
       "      <th>host_about</th>\n",
       "      <th>host_response_time</th>\n",
       "      <th>host_response_rate</th>\n",
       "      <th>host_acceptance_rate</th>\n",
       "      <th>host_is_superhost</th>\n",
       "      <th>host_neighbourhood</th>\n",
       "      <th>host_listings_count</th>\n",
       "      <th>host_total_listings_count</th>\n",
       "      <th>host_verifications</th>\n",
       "      <th>host_has_profile_pic</th>\n",
       "      <th>host_identity_verified</th>\n",
       "      <th>street</th>\n",
       "      <th>neighbourhood</th>\n",
       "      <th>neighbourhood_cleansed</th>\n",
       "      <th>city</th>\n",
       "      <th>state</th>\n",
       "      <th>zipcode</th>\n",
       "      <th>market</th>\n",
       "      <th>smart_location</th>\n",
       "      <th>country_code</th>\n",
       "      <th>country</th>\n",
       "      <th>latitude</th>\n",
       "      <th>longitude</th>\n",
       "      <th>is_location_exact</th>\n",
       "      <th>property_type</th>\n",
       "      <th>room_type</th>\n",
       "      <th>accommodates</th>\n",
       "      <th>bathrooms</th>\n",
       "      <th>bedrooms</th>\n",
       "      <th>beds</th>\n",
       "      <th>bed_type</th>\n",
       "      <th>amenities</th>\n",
       "      <th>square_feet</th>\n",
       "      <th>price</th>\n",
       "      <th>weekly_price</th>\n",
       "      <th>monthly_price</th>\n",
       "      <th>security_deposit</th>\n",
       "      <th>cleaning_fee</th>\n",
       "      <th>guests_included</th>\n",
       "      <th>extra_people</th>\n",
       "      <th>minimum_nights</th>\n",
       "      <th>maximum_nights</th>\n",
       "      <th>calendar_updated</th>\n",
       "      <th>has_availability</th>\n",
       "      <th>availability_30</th>\n",
       "      <th>availability_60</th>\n",
       "      <th>availability_90</th>\n",
       "      <th>availability_365</th>\n",
       "      <th>calendar_last_scraped</th>\n",
       "      <th>number_of_reviews</th>\n",
       "      <th>first_review</th>\n",
       "      <th>last_review</th>\n",
       "      <th>review_scores_rating</th>\n",
       "      <th>review_scores_accuracy</th>\n",
       "      <th>review_scores_cleanliness</th>\n",
       "      <th>review_scores_checkin</th>\n",
       "      <th>review_scores_communication</th>\n",
       "      <th>review_scores_location</th>\n",
       "      <th>review_scores_value</th>\n",
       "      <th>requires_license</th>\n",
       "      <th>instant_bookable</th>\n",
       "      <th>cancellation_policy</th>\n",
       "      <th>require_guest_profile_picture</th>\n",
       "      <th>require_guest_phone_verification</th>\n",
       "      <th>calculated_host_listings_count</th>\n",
       "      <th>reviews_per_month</th>\n",
       "    </tr>\n",
       "  </thead>\n",
       "  <tbody>\n",
       "    <tr>\n",
       "      <th>0</th>\n",
       "      <td>1</td>\n",
       "      <td>9814837</td>\n",
       "      <td>2016-01-03</td>\n",
       "      <td>Near Auburn Station</td>\n",
       "      <td>Share 1 bathroom, 2 toilets with family. Walk ...</td>\n",
       "      <td>NaN</td>\n",
       "      <td>Share 1 bathroom, 2 toilets with family. Walk ...</td>\n",
       "      <td>none</td>\n",
       "      <td>NaN</td>\n",
       "      <td>NaN</td>\n",
       "      <td>Near railway station. Take train to CBD 26-34m...</td>\n",
       "      <td>47437319</td>\n",
       "      <td>Fang</td>\n",
       "      <td>2015-10-26</td>\n",
       "      <td>AU</td>\n",
       "      <td>NaN</td>\n",
       "      <td>within an hour</td>\n",
       "      <td>92%</td>\n",
       "      <td>67%</td>\n",
       "      <td>f</td>\n",
       "      <td>Auburn</td>\n",
       "      <td>3.0</td>\n",
       "      <td>3.0</td>\n",
       "      <td>['email', 'phone', 'reviews', 'weibo', 'jumio']</td>\n",
       "      <td>t</td>\n",
       "      <td>t</td>\n",
       "      <td>Northcote St, Auburn, New South Wales 2144, Au...</td>\n",
       "      <td>NaN</td>\n",
       "      <td>Auburn</td>\n",
       "      <td>Auburn</td>\n",
       "      <td>New South Wales</td>\n",
       "      <td>2144</td>\n",
       "      <td>Sydney</td>\n",
       "      <td>Auburn, Australia</td>\n",
       "      <td>AU</td>\n",
       "      <td>Australia</td>\n",
       "      <td>-33.848778</td>\n",
       "      <td>151.027923</td>\n",
       "      <td>f</td>\n",
       "      <td>House</td>\n",
       "      <td>Private room</td>\n",
       "      <td>2</td>\n",
       "      <td>1.0</td>\n",
       "      <td>1.0</td>\n",
       "      <td>1.0</td>\n",
       "      <td>Real Bed</td>\n",
       "      <td>{}</td>\n",
       "      <td>NaN</td>\n",
       "      <td>$60.00</td>\n",
       "      <td>$280.00</td>\n",
       "      <td>NaN</td>\n",
       "      <td>NaN</td>\n",
       "      <td>$10.00</td>\n",
       "      <td>1</td>\n",
       "      <td>$0.00</td>\n",
       "      <td>4</td>\n",
       "      <td>1125</td>\n",
       "      <td>3 weeks ago</td>\n",
       "      <td>t</td>\n",
       "      <td>0</td>\n",
       "      <td>0</td>\n",
       "      <td>0</td>\n",
       "      <td>274</td>\n",
       "      <td>2016-01-03</td>\n",
       "      <td>0</td>\n",
       "      <td>NaN</td>\n",
       "      <td>NaN</td>\n",
       "      <td>NaN</td>\n",
       "      <td>NaN</td>\n",
       "      <td>NaN</td>\n",
       "      <td>NaN</td>\n",
       "      <td>NaN</td>\n",
       "      <td>NaN</td>\n",
       "      <td>NaN</td>\n",
       "      <td>f</td>\n",
       "      <td>f</td>\n",
       "      <td>strict</td>\n",
       "      <td>f</td>\n",
       "      <td>f</td>\n",
       "      <td>3</td>\n",
       "      <td>NaN</td>\n",
       "    </tr>\n",
       "    <tr>\n",
       "      <th>1</th>\n",
       "      <td>1</td>\n",
       "      <td>4343438</td>\n",
       "      <td>2016-01-03</td>\n",
       "      <td>Nikita &amp; Rusty Home</td>\n",
       "      <td>We welcome you to share 1 bedroom in our 3 bed...</td>\n",
       "      <td>Your room is a spacious master bedroom includi...</td>\n",
       "      <td>We welcome you to share 1 bedroom in our 3 bed...</td>\n",
       "      <td>none</td>\n",
       "      <td>*Olympic park, ANZ Stadium &amp; Allphones arena w...</td>\n",
       "      <td>Breakfast/ Dinner available for an additional ...</td>\n",
       "      <td>All the transports are available and very freq...</td>\n",
       "      <td>22265744</td>\n",
       "      <td>Nikita</td>\n",
       "      <td>2014-10-08</td>\n",
       "      <td>NSW, Australia</td>\n",
       "      <td>We are a young Indian working couple and we lo...</td>\n",
       "      <td>within an hour</td>\n",
       "      <td>90%</td>\n",
       "      <td>55%</td>\n",
       "      <td>f</td>\n",
       "      <td>North Strathfield/Concord West</td>\n",
       "      <td>3.0</td>\n",
       "      <td>3.0</td>\n",
       "      <td>['email', 'phone', 'reviews']</td>\n",
       "      <td>t</td>\n",
       "      <td>f</td>\n",
       "      <td>Wentworth Drive, Liberty Grove, NSW 2138, Aust...</td>\n",
       "      <td>NaN</td>\n",
       "      <td>Auburn</td>\n",
       "      <td>Liberty Grove</td>\n",
       "      <td>NSW</td>\n",
       "      <td>2138</td>\n",
       "      <td>Sydney</td>\n",
       "      <td>Liberty Grove, Australia</td>\n",
       "      <td>AU</td>\n",
       "      <td>Australia</td>\n",
       "      <td>-33.839719</td>\n",
       "      <td>151.080003</td>\n",
       "      <td>t</td>\n",
       "      <td>Apartment</td>\n",
       "      <td>Private room</td>\n",
       "      <td>2</td>\n",
       "      <td>1.0</td>\n",
       "      <td>1.0</td>\n",
       "      <td>1.0</td>\n",
       "      <td>Real Bed</td>\n",
       "      <td>{TV,Internet,\"Wireless Internet\",Pool,\"Free Pa...</td>\n",
       "      <td>NaN</td>\n",
       "      <td>$100.00</td>\n",
       "      <td>NaN</td>\n",
       "      <td>NaN</td>\n",
       "      <td>NaN</td>\n",
       "      <td>NaN</td>\n",
       "      <td>2</td>\n",
       "      <td>$0.00</td>\n",
       "      <td>1</td>\n",
       "      <td>1125</td>\n",
       "      <td>2 months ago</td>\n",
       "      <td>t</td>\n",
       "      <td>20</td>\n",
       "      <td>50</td>\n",
       "      <td>80</td>\n",
       "      <td>347</td>\n",
       "      <td>2016-01-03</td>\n",
       "      <td>16</td>\n",
       "      <td>2014-10-31</td>\n",
       "      <td>2015-11-07</td>\n",
       "      <td>95.0</td>\n",
       "      <td>10.0</td>\n",
       "      <td>10.0</td>\n",
       "      <td>10.0</td>\n",
       "      <td>10.0</td>\n",
       "      <td>10.0</td>\n",
       "      <td>9.0</td>\n",
       "      <td>f</td>\n",
       "      <td>f</td>\n",
       "      <td>moderate</td>\n",
       "      <td>f</td>\n",
       "      <td>f</td>\n",
       "      <td>2</td>\n",
       "      <td>1.12</td>\n",
       "    </tr>\n",
       "    <tr>\n",
       "      <th>2</th>\n",
       "      <td>1</td>\n",
       "      <td>1295993</td>\n",
       "      <td>2016-01-03</td>\n",
       "      <td>Large &amp; modern room- 25 mins to CBD</td>\n",
       "      <td>I'm going to Europe for 3 months so the big be...</td>\n",
       "      <td>Welcome to your very own immaculate and modern...</td>\n",
       "      <td>I'm going to Europe for 3 months so the big be...</td>\n",
       "      <td>none</td>\n",
       "      <td>NaN</td>\n",
       "      <td>NaN</td>\n",
       "      <td>NaN</td>\n",
       "      <td>1936414</td>\n",
       "      <td>Desi</td>\n",
       "      <td>2012-03-16</td>\n",
       "      <td>Auburn, New South Wales, Australia</td>\n",
       "      <td>28 years old professional from Eastern Europe....</td>\n",
       "      <td>within a few hours</td>\n",
       "      <td>100%</td>\n",
       "      <td>80%</td>\n",
       "      <td>f</td>\n",
       "      <td>Auburn</td>\n",
       "      <td>3.0</td>\n",
       "      <td>3.0</td>\n",
       "      <td>['email', 'phone', 'reviews']</td>\n",
       "      <td>t</td>\n",
       "      <td>f</td>\n",
       "      <td>Marion Street, Auburn, NSW 2144, Australia</td>\n",
       "      <td>Auburn</td>\n",
       "      <td>Auburn</td>\n",
       "      <td>Auburn</td>\n",
       "      <td>NSW</td>\n",
       "      <td>2144</td>\n",
       "      <td>Sydney</td>\n",
       "      <td>Auburn, Australia</td>\n",
       "      <td>AU</td>\n",
       "      <td>Australia</td>\n",
       "      <td>-33.852699</td>\n",
       "      <td>151.034988</td>\n",
       "      <td>t</td>\n",
       "      <td>Apartment</td>\n",
       "      <td>Private room</td>\n",
       "      <td>2</td>\n",
       "      <td>1.0</td>\n",
       "      <td>1.0</td>\n",
       "      <td>1.0</td>\n",
       "      <td>Real Bed</td>\n",
       "      <td>{TV,\"Air Conditioning\",Pool,Kitchen,\"Free Park...</td>\n",
       "      <td>NaN</td>\n",
       "      <td>$59.00</td>\n",
       "      <td>$300.00</td>\n",
       "      <td>$1,000.00</td>\n",
       "      <td>NaN</td>\n",
       "      <td>NaN</td>\n",
       "      <td>1</td>\n",
       "      <td>$0.00</td>\n",
       "      <td>1</td>\n",
       "      <td>1125</td>\n",
       "      <td>1 week ago</td>\n",
       "      <td>t</td>\n",
       "      <td>14</td>\n",
       "      <td>26</td>\n",
       "      <td>26</td>\n",
       "      <td>171</td>\n",
       "      <td>2016-01-03</td>\n",
       "      <td>7</td>\n",
       "      <td>2013-07-29</td>\n",
       "      <td>2016-01-02</td>\n",
       "      <td>89.0</td>\n",
       "      <td>6.0</td>\n",
       "      <td>7.0</td>\n",
       "      <td>9.0</td>\n",
       "      <td>10.0</td>\n",
       "      <td>8.0</td>\n",
       "      <td>9.0</td>\n",
       "      <td>f</td>\n",
       "      <td>f</td>\n",
       "      <td>flexible</td>\n",
       "      <td>f</td>\n",
       "      <td>f</td>\n",
       "      <td>2</td>\n",
       "      <td>0.24</td>\n",
       "    </tr>\n",
       "    <tr>\n",
       "      <th>3</th>\n",
       "      <td>1</td>\n",
       "      <td>9651483</td>\n",
       "      <td>2016-01-03</td>\n",
       "      <td>Entire apartment 2mins from station</td>\n",
       "      <td>Hi, this space is available from 22/12 to 26/1...</td>\n",
       "      <td>NaN</td>\n",
       "      <td>Hi, this space is available from 22/12 to 26/1...</td>\n",
       "      <td>none</td>\n",
       "      <td>NaN</td>\n",
       "      <td>NaN</td>\n",
       "      <td>2 minutes walk to the closest station</td>\n",
       "      <td>27832988</td>\n",
       "      <td>Yvonne</td>\n",
       "      <td>2015-02-16</td>\n",
       "      <td>Sydney, New South Wales, Australia</td>\n",
       "      <td>NaN</td>\n",
       "      <td>within an hour</td>\n",
       "      <td>100%</td>\n",
       "      <td>100%</td>\n",
       "      <td>f</td>\n",
       "      <td>Lidcombe</td>\n",
       "      <td>1.0</td>\n",
       "      <td>1.0</td>\n",
       "      <td>['email', 'phone', 'facebook', 'reviews', 'jum...</td>\n",
       "      <td>t</td>\n",
       "      <td>t</td>\n",
       "      <td>Church Street, Lidcombe, NSW 2141, Australia</td>\n",
       "      <td>Lidcombe</td>\n",
       "      <td>Auburn</td>\n",
       "      <td>Lidcombe</td>\n",
       "      <td>NSW</td>\n",
       "      <td>2141</td>\n",
       "      <td>Sydney</td>\n",
       "      <td>Lidcombe, Australia</td>\n",
       "      <td>AU</td>\n",
       "      <td>Australia</td>\n",
       "      <td>-33.864232</td>\n",
       "      <td>151.045375</td>\n",
       "      <td>t</td>\n",
       "      <td>Apartment</td>\n",
       "      <td>Entire home/apt</td>\n",
       "      <td>4</td>\n",
       "      <td>1.0</td>\n",
       "      <td>2.0</td>\n",
       "      <td>2.0</td>\n",
       "      <td>Real Bed</td>\n",
       "      <td>{TV,\"Wireless Internet\",\"Elevator in Building\"...</td>\n",
       "      <td>NaN</td>\n",
       "      <td>$180.00</td>\n",
       "      <td>NaN</td>\n",
       "      <td>NaN</td>\n",
       "      <td>$200.00</td>\n",
       "      <td>$70.00</td>\n",
       "      <td>1</td>\n",
       "      <td>$0.00</td>\n",
       "      <td>4</td>\n",
       "      <td>4</td>\n",
       "      <td>4 weeks ago</td>\n",
       "      <td>t</td>\n",
       "      <td>0</td>\n",
       "      <td>0</td>\n",
       "      <td>28</td>\n",
       "      <td>29</td>\n",
       "      <td>2016-01-03</td>\n",
       "      <td>0</td>\n",
       "      <td>NaN</td>\n",
       "      <td>NaN</td>\n",
       "      <td>NaN</td>\n",
       "      <td>NaN</td>\n",
       "      <td>NaN</td>\n",
       "      <td>NaN</td>\n",
       "      <td>NaN</td>\n",
       "      <td>NaN</td>\n",
       "      <td>NaN</td>\n",
       "      <td>f</td>\n",
       "      <td>f</td>\n",
       "      <td>strict</td>\n",
       "      <td>f</td>\n",
       "      <td>f</td>\n",
       "      <td>1</td>\n",
       "      <td>NaN</td>\n",
       "    </tr>\n",
       "    <tr>\n",
       "      <th>4</th>\n",
       "      <td>1</td>\n",
       "      <td>1477506</td>\n",
       "      <td>2016-01-03</td>\n",
       "      <td>Sydney Great Home @ Olympic Park</td>\n",
       "      <td>2 rooms with a good quality queen bed to be re...</td>\n",
       "      <td>A great place to stay if you come to Sydney fo...</td>\n",
       "      <td>2 rooms with a good quality queen bed to be re...</td>\n",
       "      <td>none</td>\n",
       "      <td>NaN</td>\n",
       "      <td>NaN</td>\n",
       "      <td>NaN</td>\n",
       "      <td>1526109</td>\n",
       "      <td>Andrew</td>\n",
       "      <td>2011-12-21</td>\n",
       "      <td>Sydney Olympic Park, New South Wales, Australia</td>\n",
       "      <td>I am married, well educated, warm, sincere, ho...</td>\n",
       "      <td>within an hour</td>\n",
       "      <td>100%</td>\n",
       "      <td>93%</td>\n",
       "      <td>t</td>\n",
       "      <td>Silverwater/Newington</td>\n",
       "      <td>2.0</td>\n",
       "      <td>2.0</td>\n",
       "      <td>['email', 'phone', 'facebook', 'reviews', 'jum...</td>\n",
       "      <td>t</td>\n",
       "      <td>t</td>\n",
       "      <td>Curlew Avenue, Newington, NSW 2127, Australia</td>\n",
       "      <td>Silverwater/Newington</td>\n",
       "      <td>Auburn</td>\n",
       "      <td>Newington</td>\n",
       "      <td>NSW</td>\n",
       "      <td>2127</td>\n",
       "      <td>Sydney</td>\n",
       "      <td>Newington, Australia</td>\n",
       "      <td>AU</td>\n",
       "      <td>Australia</td>\n",
       "      <td>-33.836162</td>\n",
       "      <td>151.057621</td>\n",
       "      <td>t</td>\n",
       "      <td>House</td>\n",
       "      <td>Private room</td>\n",
       "      <td>2</td>\n",
       "      <td>1.0</td>\n",
       "      <td>1.0</td>\n",
       "      <td>1.0</td>\n",
       "      <td>Real Bed</td>\n",
       "      <td>{TV,Internet,\"Wireless Internet\",\"Air Conditio...</td>\n",
       "      <td>NaN</td>\n",
       "      <td>$85.00</td>\n",
       "      <td>$575.00</td>\n",
       "      <td>$2,191.00</td>\n",
       "      <td>NaN</td>\n",
       "      <td>$15.00</td>\n",
       "      <td>1</td>\n",
       "      <td>$0.00</td>\n",
       "      <td>1</td>\n",
       "      <td>365</td>\n",
       "      <td>5 days ago</td>\n",
       "      <td>t</td>\n",
       "      <td>30</td>\n",
       "      <td>60</td>\n",
       "      <td>90</td>\n",
       "      <td>365</td>\n",
       "      <td>2016-01-03</td>\n",
       "      <td>39</td>\n",
       "      <td>2013-09-07</td>\n",
       "      <td>2015-12-01</td>\n",
       "      <td>98.0</td>\n",
       "      <td>10.0</td>\n",
       "      <td>10.0</td>\n",
       "      <td>10.0</td>\n",
       "      <td>10.0</td>\n",
       "      <td>10.0</td>\n",
       "      <td>9.0</td>\n",
       "      <td>f</td>\n",
       "      <td>f</td>\n",
       "      <td>strict</td>\n",
       "      <td>t</td>\n",
       "      <td>t</td>\n",
       "      <td>2</td>\n",
       "      <td>1.38</td>\n",
       "    </tr>\n",
       "  </tbody>\n",
       "</table>\n",
       "</div>"
      ],
      "text/plain": [
       "   city_index       id last_scraped                                 name                                            summary                                              space                                        description experiences_offered                              neighborhood_overview                                              notes                                            transit   host_id host_name  host_since                                    host_location                                         host_about  host_response_time host_response_rate host_acceptance_rate host_is_superhost              host_neighbourhood  host_listings_count  host_total_listings_count                                 host_verifications host_has_profile_pic host_identity_verified                                             street          neighbourhood neighbourhood_cleansed           city            state zipcode  market            smart_location country_code    country   latitude  \\\n",
       "0           1  9814837   2016-01-03                  Near Auburn Station  Share 1 bathroom, 2 toilets with family. Walk ...                                                NaN  Share 1 bathroom, 2 toilets with family. Walk ...                none                                                NaN                                                NaN  Near railway station. Take train to CBD 26-34m...  47437319      Fang  2015-10-26                                               AU                                                NaN      within an hour                92%                  67%                 f                          Auburn                  3.0                        3.0    ['email', 'phone', 'reviews', 'weibo', 'jumio']                    t                      t  Northcote St, Auburn, New South Wales 2144, Au...                    NaN                 Auburn         Auburn  New South Wales    2144  Sydney         Auburn, Australia           AU  Australia -33.848778   \n",
       "1           1  4343438   2016-01-03                  Nikita & Rusty Home  We welcome you to share 1 bedroom in our 3 bed...  Your room is a spacious master bedroom includi...  We welcome you to share 1 bedroom in our 3 bed...                none  *Olympic park, ANZ Stadium & Allphones arena w...  Breakfast/ Dinner available for an additional ...  All the transports are available and very freq...  22265744    Nikita  2014-10-08                                   NSW, Australia  We are a young Indian working couple and we lo...      within an hour                90%                  55%                 f  North Strathfield/Concord West                  3.0                        3.0                      ['email', 'phone', 'reviews']                    t                      f  Wentworth Drive, Liberty Grove, NSW 2138, Aust...                    NaN                 Auburn  Liberty Grove              NSW    2138  Sydney  Liberty Grove, Australia           AU  Australia -33.839719   \n",
       "2           1  1295993   2016-01-03  Large & modern room- 25 mins to CBD  I'm going to Europe for 3 months so the big be...  Welcome to your very own immaculate and modern...  I'm going to Europe for 3 months so the big be...                none                                                NaN                                                NaN                                                NaN   1936414      Desi  2012-03-16               Auburn, New South Wales, Australia  28 years old professional from Eastern Europe....  within a few hours               100%                  80%                 f                          Auburn                  3.0                        3.0                      ['email', 'phone', 'reviews']                    t                      f         Marion Street, Auburn, NSW 2144, Australia                 Auburn                 Auburn         Auburn              NSW    2144  Sydney         Auburn, Australia           AU  Australia -33.852699   \n",
       "3           1  9651483   2016-01-03  Entire apartment 2mins from station  Hi, this space is available from 22/12 to 26/1...                                                NaN  Hi, this space is available from 22/12 to 26/1...                none                                                NaN                                                NaN              2 minutes walk to the closest station  27832988    Yvonne  2015-02-16               Sydney, New South Wales, Australia                                                NaN      within an hour               100%                 100%                 f                        Lidcombe                  1.0                        1.0  ['email', 'phone', 'facebook', 'reviews', 'jum...                    t                      t       Church Street, Lidcombe, NSW 2141, Australia               Lidcombe                 Auburn       Lidcombe              NSW    2141  Sydney       Lidcombe, Australia           AU  Australia -33.864232   \n",
       "4           1  1477506   2016-01-03     Sydney Great Home @ Olympic Park  2 rooms with a good quality queen bed to be re...  A great place to stay if you come to Sydney fo...  2 rooms with a good quality queen bed to be re...                none                                                NaN                                                NaN                                                NaN   1526109    Andrew  2011-12-21  Sydney Olympic Park, New South Wales, Australia  I am married, well educated, warm, sincere, ho...      within an hour               100%                  93%                 t           Silverwater/Newington                  2.0                        2.0  ['email', 'phone', 'facebook', 'reviews', 'jum...                    t                      t      Curlew Avenue, Newington, NSW 2127, Australia  Silverwater/Newington                 Auburn      Newington              NSW    2127  Sydney      Newington, Australia           AU  Australia -33.836162   \n",
       "\n",
       "    longitude is_location_exact property_type        room_type  accommodates  bathrooms  bedrooms  beds  bed_type                                          amenities  square_feet    price weekly_price monthly_price security_deposit cleaning_fee  guests_included extra_people  minimum_nights  maximum_nights calendar_updated has_availability  availability_30  availability_60  availability_90  availability_365 calendar_last_scraped  number_of_reviews first_review last_review  review_scores_rating  review_scores_accuracy  review_scores_cleanliness  review_scores_checkin  review_scores_communication  review_scores_location  review_scores_value requires_license instant_bookable cancellation_policy require_guest_profile_picture require_guest_phone_verification  calculated_host_listings_count  reviews_per_month  \n",
       "0  151.027923                 f         House     Private room             2        1.0       1.0   1.0  Real Bed                                                 {}          NaN   $60.00      $280.00           NaN              NaN       $10.00                1        $0.00               4            1125      3 weeks ago                t                0                0                0               274            2016-01-03                  0          NaN         NaN                   NaN                     NaN                        NaN                    NaN                          NaN                     NaN                  NaN                f                f              strict                             f                                f                               3                NaN  \n",
       "1  151.080003                 t     Apartment     Private room             2        1.0       1.0   1.0  Real Bed  {TV,Internet,\"Wireless Internet\",Pool,\"Free Pa...          NaN  $100.00          NaN           NaN              NaN          NaN                2        $0.00               1            1125     2 months ago                t               20               50               80               347            2016-01-03                 16   2014-10-31  2015-11-07                  95.0                    10.0                       10.0                   10.0                         10.0                    10.0                  9.0                f                f            moderate                             f                                f                               2               1.12  \n",
       "2  151.034988                 t     Apartment     Private room             2        1.0       1.0   1.0  Real Bed  {TV,\"Air Conditioning\",Pool,Kitchen,\"Free Park...          NaN   $59.00      $300.00     $1,000.00              NaN          NaN                1        $0.00               1            1125       1 week ago                t               14               26               26               171            2016-01-03                  7   2013-07-29  2016-01-02                  89.0                     6.0                        7.0                    9.0                         10.0                     8.0                  9.0                f                f            flexible                             f                                f                               2               0.24  \n",
       "3  151.045375                 t     Apartment  Entire home/apt             4        1.0       2.0   2.0  Real Bed  {TV,\"Wireless Internet\",\"Elevator in Building\"...          NaN  $180.00          NaN           NaN          $200.00       $70.00                1        $0.00               4               4      4 weeks ago                t                0                0               28                29            2016-01-03                  0          NaN         NaN                   NaN                     NaN                        NaN                    NaN                          NaN                     NaN                  NaN                f                f              strict                             f                                f                               1                NaN  \n",
       "4  151.057621                 t         House     Private room             2        1.0       1.0   1.0  Real Bed  {TV,Internet,\"Wireless Internet\",\"Air Conditio...          NaN   $85.00      $575.00     $2,191.00              NaN       $15.00                1        $0.00               1             365       5 days ago                t               30               60               90               365            2016-01-03                 39   2013-09-07  2015-12-01                  98.0                    10.0                       10.0                   10.0                         10.0                    10.0                  9.0                f                f              strict                             t                                t                               2               1.38  "
      ]
     },
     "execution_count": 109,
     "metadata": {},
     "output_type": "execute_result"
    }
   ],
   "source": [
    "all_listings.head(5)"
   ]
  },
  {
   "cell_type": "code",
   "execution_count": 110,
   "metadata": {},
   "outputs": [],
   "source": [
    "price_cols = ['price', \n",
    "              'weekly_price', \n",
    "              'monthly_price', \n",
    "              'security_deposit', \n",
    "              'cleaning_fee', \n",
    "              'extra_people']"
   ]
  },
  {
   "cell_type": "code",
   "execution_count": 111,
   "metadata": {},
   "outputs": [
    {
     "data": {
      "text/plain": [
       "array(['$60.00'], dtype=object)"
      ]
     },
     "execution_count": 111,
     "metadata": {},
     "output_type": "execute_result"
    }
   ],
   "source": [
    "all_listings.head(1).price.values"
   ]
  },
  {
   "cell_type": "code",
   "execution_count": 112,
   "metadata": {},
   "outputs": [],
   "source": [
    "sl = '$60.00'"
   ]
  },
  {
   "cell_type": "code",
   "execution_count": 113,
   "metadata": {},
   "outputs": [
    {
     "ename": "NameError",
     "evalue": "name 's1' is not defined",
     "output_type": "error",
     "traceback": [
      "\u001b[1;31m---------------------------------------------------------------------------\u001b[0m",
      "\u001b[1;31mNameError\u001b[0m                                 Traceback (most recent call last)",
      "\u001b[1;32m<ipython-input-113-3023ad2bcfec>\u001b[0m in \u001b[0;36m<module>\u001b[1;34m()\u001b[0m\n\u001b[0;32m     13\u001b[0m     \u001b[1;32mreturn\u001b[0m \u001b[0mprice_numeric\u001b[0m\u001b[1;33m\u001b[0m\u001b[0m\n\u001b[0;32m     14\u001b[0m \u001b[1;33m\u001b[0m\u001b[0m\n\u001b[1;32m---> 15\u001b[1;33m \u001b[0mprices_to_numbers\u001b[0m\u001b[1;33m(\u001b[0m\u001b[0ms1\u001b[0m\u001b[1;33m)\u001b[0m\u001b[1;33m\u001b[0m\u001b[0m\n\u001b[0m",
      "\u001b[1;31mNameError\u001b[0m: name 's1' is not defined"
     ]
    }
   ],
   "source": [
    "def prices_to_numbers(price_string):\n",
    "    '''\n",
    "    Converts USD prices from string to numeric format\n",
    "    \n",
    "    Args:\n",
    "        price_string (string): USD price in string format (e.g., '$123,456.00')\n",
    "    \n",
    "    Returns:\n",
    "        price_numeric (float): USD price in numeric format (e.g., 123456.00)\n",
    "    '''\n",
    "    \n",
    "    price_numeric = float(str(price_string).replace(',', '').split('$')[-1])\n",
    "    return price_numeric\n",
    "\n",
    "prices_to_numbers(s1)"
   ]
  },
  {
   "cell_type": "code",
   "execution_count": null,
   "metadata": {},
   "outputs": [],
   "source": [
    "for col in price_cols:\n",
    "    print(col)\n",
    "    all_listings[col] = all_listings[col].apply(prices_to_numbers)"
   ]
  },
  {
   "cell_type": "code",
   "execution_count": null,
   "metadata": {},
   "outputs": [],
   "source": [
    "all_listings.select_dtypes(float).head(2)"
   ]
  },
  {
   "cell_type": "code",
   "execution_count": null,
   "metadata": {},
   "outputs": [],
   "source": [
    "\n",
    "all_listings.head(5)"
   ]
  },
  {
   "cell_type": "code",
   "execution_count": null,
   "metadata": {},
   "outputs": [],
   "source": [
    "boolean_cols = ['host_is_superhost', \n",
    "               'host_has_profile_pic',\n",
    "               'host_identity_verified',\n",
    "               'is_location_exact',\n",
    "               'has_availability',\n",
    "               'requires_license',\n",
    "               'instant_bookable',\n",
    "               'require_guest_profile_picture',\n",
    "               'require_guest_phone_verification']"
   ]
  },
  {
   "cell_type": "code",
   "execution_count": null,
   "metadata": {},
   "outputs": [],
   "source": [
    "def booleans_to_numbers(s):\n",
    "    '''\n",
    "    Converts \"first letter boolean\" strings to integers\n",
    "    \n",
    "    Args:\n",
    "        bool_string (string): 't', 'f' or other\n",
    "    \n",
    "    Returns:\n",
    "        bool_number (int): 1, 0 or None\n",
    "    '''\n",
    "    \n",
    "    \n",
    "    if s == 'f':\n",
    "        return 0\n",
    "    elif s == 't':\n",
    "        return 1\n",
    "    return None"
   ]
  },
  {
   "cell_type": "code",
   "execution_count": null,
   "metadata": {},
   "outputs": [],
   "source": [
    "for col in boolean_cols:\n",
    "    print(col)\n",
    "    all_listings[col] = all_listings[col].apply(booleans_to_numbers)"
   ]
  },
  {
   "cell_type": "code",
   "execution_count": null,
   "metadata": {},
   "outputs": [],
   "source": [
    "all_listings.select_dtypes(object).head(2)"
   ]
  },
  {
   "cell_type": "code",
   "execution_count": null,
   "metadata": {},
   "outputs": [],
   "source": [
    "all_listings.to_csv('all_listings.csv', encoding='utf-8', index=False)"
   ]
  },
  {
   "cell_type": "code",
   "execution_count": null,
   "metadata": {},
   "outputs": [],
   "source": [
    "all_reviews.info()"
   ]
  },
  {
   "cell_type": "code",
   "execution_count": null,
   "metadata": {},
   "outputs": [],
   "source": [
    "all_reviews.head(5)"
   ]
  },
  {
   "cell_type": "code",
   "execution_count": null,
   "metadata": {},
   "outputs": [],
   "source": [
    "all_listings.summary.head(50)"
   ]
  },
  {
   "cell_type": "code",
   "execution_count": null,
   "metadata": {},
   "outputs": [],
   "source": [
    "all_listings.description.head(50)"
   ]
  },
  {
   "cell_type": "code",
   "execution_count": null,
   "metadata": {},
   "outputs": [],
   "source": [
    "all_listings.notes.head(50)"
   ]
  },
  {
   "cell_type": "code",
   "execution_count": null,
   "metadata": {},
   "outputs": [],
   "source": [
    "all_listings.property_type.unique()"
   ]
  },
  {
   "cell_type": "code",
   "execution_count": null,
   "metadata": {},
   "outputs": [],
   "source": [
    "all_listings.bed_type.unique()"
   ]
  },
  {
   "cell_type": "code",
   "execution_count": null,
   "metadata": {},
   "outputs": [],
   "source": [
    "all_listings.cancellation_policy.unique()"
   ]
  },
  {
   "cell_type": "code",
   "execution_count": null,
   "metadata": {},
   "outputs": [],
   "source": [
    "all_listings.room_type.unique()"
   ]
  },
  {
   "cell_type": "code",
   "execution_count": null,
   "metadata": {},
   "outputs": [],
   "source": [
    "#room_type_dict = {'Shared room': 1, 'Private room': 2, 'Entire home/apt': 3}\n",
    "#all_listings.room_type.replace(room_type_dict, inplace=True)"
   ]
  },
  {
   "cell_type": "code",
   "execution_count": null,
   "metadata": {},
   "outputs": [],
   "source": [
    "all_listings.amenities.head().values"
   ]
  },
  {
   "cell_type": "code",
   "execution_count": null,
   "metadata": {},
   "outputs": [],
   "source": []
  },
  {
   "cell_type": "code",
   "execution_count": null,
   "metadata": {},
   "outputs": [],
   "source": [
    "#all_listings.isnull().sum().sort_values(ascending=False).head(20)"
   ]
  },
  {
   "cell_type": "code",
   "execution_count": null,
   "metadata": {},
   "outputs": [],
   "source": []
  },
  {
   "cell_type": "code",
   "execution_count": null,
   "metadata": {},
   "outputs": [],
   "source": [
    "#Finally, we want to add geographical distance from cities to city centers\n",
    "lat_center_dict = {1: -33.8678500, 2: 37.8140000}\n",
    "lon_center_dict = {1: 151.2073200, 2: 144.9633200}"
   ]
  },
  {
   "cell_type": "code",
   "execution_count": null,
   "metadata": {},
   "outputs": [],
   "source": [
    "all_listings['lat_center'] = all_listings.city_index.replace(lat_center_dict)\n",
    "all_listings['lon_center'] = all_listings.city_index.replace(lon_center_dict)"
   ]
  },
  {
   "cell_type": "code",
   "execution_count": null,
   "metadata": {},
   "outputs": [],
   "source": [
    "%%time\n",
    "# calculates Vincenty distance from the city center using https://en.wikipedia.org/wiki/Vincenty%27s_formulae \n",
    "all_listings['distance_center'] = all_listings.apply(lambda x: vincenty((x['latitude'], x['longitude']), (x['lat_center'], x['lon_center'])).km, axis = 1)"
   ]
  },
  {
   "cell_type": "code",
   "execution_count": null,
   "metadata": {},
   "outputs": [],
   "source": [
    "all_listings['distance_center'].describe()"
   ]
  },
  {
   "cell_type": "code",
   "execution_count": 114,
   "metadata": {},
   "outputs": [
    {
     "data": {
      "text/plain": [
       "(24782, 81)"
      ]
     },
     "execution_count": 114,
     "metadata": {},
     "output_type": "execute_result"
    }
   ],
   "source": [
    "all_listings.shape"
   ]
  },
  {
   "cell_type": "code",
   "execution_count": 115,
   "metadata": {},
   "outputs": [
    {
     "data": {
      "image/png": "[encoded data removed]",
      "text/plain": [
       "<Figure size 864x576 with 2 Axes>"
      ]
     },
     "metadata": {
      "needs_background": "light"
     },
     "output_type": "display_data"
    }
   ],
   "source": [
    "plt.figure(figsize=(12,8))\n",
    "sns.heatmap(all_listings.corr());\n",
    "plt.show()"
   ]
  },
  {
   "cell_type": "code",
   "execution_count": null,
   "metadata": {},
   "outputs": [],
   "source": []
  },
  {
   "cell_type": "code",
   "execution_count": 123,
   "metadata": {},
   "outputs": [
    {
     "ename": "NameError",
     "evalue": "name 'SentimentIntensityAnalyzer' is not defined",
     "output_type": "error",
     "traceback": [
      "\u001b[1;31m---------------------------------------------------------------------------\u001b[0m",
      "\u001b[1;31mNameError\u001b[0m                                 Traceback (most recent call last)",
      "\u001b[1;32m<ipython-input-123-657c43ab533d>\u001b[0m in \u001b[0;36m<module>\u001b[1;34m()\u001b[0m\n\u001b[1;32m----> 1\u001b[1;33m \u001b[0msid\u001b[0m \u001b[1;33m=\u001b[0m \u001b[0mSentimentIntensityAnalyzer\u001b[0m\u001b[1;33m(\u001b[0m\u001b[1;33m)\u001b[0m\u001b[1;33m\u001b[0m\u001b[0m\n\u001b[0m",
      "\u001b[1;31mNameError\u001b[0m: name 'SentimentIntensityAnalyzer' is not defined"
     ]
    }
   ],
   "source": [
    "sid = SentimentIntensityAnalyzer()"
   ]
  },
  {
   "cell_type": "code",
   "execution_count": 116,
   "metadata": {},
   "outputs": [],
   "source": [
    "#Positive and negative reviews"
   ]
  },
  {
   "cell_type": "code",
   "execution_count": 122,
   "metadata": {},
   "outputs": [
    {
     "ename": "NameError",
     "evalue": "name 'SentimentIntensityAnalyzer' is not defined",
     "output_type": "error",
     "traceback": [
      "\u001b[1;31m---------------------------------------------------------------------------\u001b[0m",
      "\u001b[1;31mNameError\u001b[0m                                 Traceback (most recent call last)",
      "\u001b[1;32m<ipython-input-122-6fea0dac51ec>\u001b[0m in \u001b[0;36m<module>\u001b[1;34m()\u001b[0m\n\u001b[0;32m      5\u001b[0m \u001b[0mvader_polarity_compound\u001b[0m \u001b[1;33m=\u001b[0m \u001b[1;32mlambda\u001b[0m \u001b[0ms\u001b[0m\u001b[1;33m:\u001b[0m \u001b[1;33m(\u001b[0m\u001b[0mSentimentIntensityAnalyzer\u001b[0m\u001b[1;33m(\u001b[0m\u001b[1;33m)\u001b[0m\u001b[1;33m.\u001b[0m\u001b[0mpolarity_scores\u001b[0m\u001b[1;33m(\u001b[0m\u001b[0ms\u001b[0m\u001b[1;33m)\u001b[0m\u001b[1;33m)\u001b[0m\u001b[1;33m[\u001b[0m\u001b[1;34m'compound'\u001b[0m\u001b[1;33m]\u001b[0m\u001b[1;33m\u001b[0m\u001b[0m\n\u001b[0;32m      6\u001b[0m \u001b[1;33m\u001b[0m\u001b[0m\n\u001b[1;32m----> 7\u001b[1;33m \u001b[0mvader_polarity_compound\u001b[0m\u001b[1;33m(\u001b[0m\u001b[0mtest_sentence_1\u001b[0m\u001b[1;33m)\u001b[0m\u001b[1;33m,\u001b[0m \u001b[0mvader_polarity_compound\u001b[0m\u001b[1;33m(\u001b[0m\u001b[0mtest_sentence_2\u001b[0m\u001b[1;33m)\u001b[0m\u001b[1;33m\u001b[0m\u001b[0m\n\u001b[0m",
      "\u001b[1;32m<ipython-input-122-6fea0dac51ec>\u001b[0m in \u001b[0;36m<lambda>\u001b[1;34m(s)\u001b[0m\n\u001b[0;32m      3\u001b[0m \u001b[1;33m\u001b[0m\u001b[0m\n\u001b[0;32m      4\u001b[0m \u001b[1;31m# calculates compound sentiment polarity of the sentence\u001b[0m\u001b[1;33m\u001b[0m\u001b[1;33m\u001b[0m\u001b[0m\n\u001b[1;32m----> 5\u001b[1;33m \u001b[0mvader_polarity_compound\u001b[0m \u001b[1;33m=\u001b[0m \u001b[1;32mlambda\u001b[0m \u001b[0ms\u001b[0m\u001b[1;33m:\u001b[0m \u001b[1;33m(\u001b[0m\u001b[0mSentimentIntensityAnalyzer\u001b[0m\u001b[1;33m(\u001b[0m\u001b[1;33m)\u001b[0m\u001b[1;33m.\u001b[0m\u001b[0mpolarity_scores\u001b[0m\u001b[1;33m(\u001b[0m\u001b[0ms\u001b[0m\u001b[1;33m)\u001b[0m\u001b[1;33m)\u001b[0m\u001b[1;33m[\u001b[0m\u001b[1;34m'compound'\u001b[0m\u001b[1;33m]\u001b[0m\u001b[1;33m\u001b[0m\u001b[0m\n\u001b[0m\u001b[0;32m      6\u001b[0m \u001b[1;33m\u001b[0m\u001b[0m\n\u001b[0;32m      7\u001b[0m \u001b[0mvader_polarity_compound\u001b[0m\u001b[1;33m(\u001b[0m\u001b[0mtest_sentence_1\u001b[0m\u001b[1;33m)\u001b[0m\u001b[1;33m,\u001b[0m \u001b[0mvader_polarity_compound\u001b[0m\u001b[1;33m(\u001b[0m\u001b[0mtest_sentence_2\u001b[0m\u001b[1;33m)\u001b[0m\u001b[1;33m\u001b[0m\u001b[0m\n",
      "\u001b[1;31mNameError\u001b[0m: name 'SentimentIntensityAnalyzer' is not defined"
     ]
    }
   ],
   "source": [
    "test_sentence_1 = 'Room was nice. could have been a lot worse. I really liked it.'\n",
    "test_sentence_2 = 'I detest this room. It was terrible.'\n",
    "\n",
    "# calculates compound sentiment polarity of the sentence\n",
    "vader_polarity_compound = lambda s: (SentimentIntensityAnalyzer().polarity_scores(s))['compound']\n",
    "\n",
    "vader_polarity_compound(test_sentence_1), vader_polarity_compound(test_sentence_2)"
   ]
  },
  {
   "cell_type": "code",
   "execution_count": null,
   "metadata": {},
   "outputs": [],
   "source": []
  },
  {
   "cell_type": "code",
   "execution_count": null,
   "metadata": {},
   "outputs": [],
   "source": []
  },
  {
   "cell_type": "code",
   "execution_count": null,
   "metadata": {},
   "outputs": [],
   "source": []
  },
  {
   "cell_type": "code",
   "execution_count": null,
   "metadata": {},
   "outputs": [],
   "source": []
  },
  {
   "cell_type": "code",
   "execution_count": null,
   "metadata": {},
   "outputs": [],
   "source": []
  },
  {
   "cell_type": "code",
   "execution_count": null,
   "metadata": {},
   "outputs": [],
   "source": []
  },
  {
   "cell_type": "code",
   "execution_count": null,
   "metadata": {},
   "outputs": [],
   "source": []
  },
  {
   "cell_type": "code",
   "execution_count": null,
   "metadata": {},
   "outputs": [],
   "source": []
  },
  {
   "cell_type": "code",
   "execution_count": null,
   "metadata": {},
   "outputs": [],
   "source": []
  },
  {
   "cell_type": "code",
   "execution_count": null,
   "metadata": {},
   "outputs": [],
   "source": []
  },
  {
   "cell_type": "code",
   "execution_count": null,
   "metadata": {},
   "outputs": [],
   "source": []
  },
  {
   "cell_type": "code",
   "execution_count": 63,
   "metadata": {},
   "outputs": [],
   "source": [
    "sydney_reviews.date = sydney_reviews.date.apply(lambda x: pd.to_datetime(x))"
   ]
  },
  {
   "cell_type": "code",
   "execution_count": 149,
   "metadata": {},
   "outputs": [
    {
     "data": {
      "text/plain": [
       "array(['within an hour', 'within a few hours', 'within a day', nan,\n",
       "       'a few days or more'], dtype=object)"
      ]
     },
     "execution_count": 149,
     "metadata": {},
     "output_type": "execute_result"
    }
   ],
   "source": []
  },
  {
   "cell_type": "code",
   "execution_count": null,
   "metadata": {},
   "outputs": [],
   "source": []
  },
  {
   "cell_type": "code",
   "execution_count": null,
   "metadata": {},
   "outputs": [],
   "source": []
  },
  {
   "cell_type": "code",
   "execution_count": null,
   "metadata": {},
   "outputs": [],
   "source": []
  },
  {
   "cell_type": "code",
   "execution_count": null,
   "metadata": {},
   "outputs": [],
   "source": [
    "\n"
   ]
  },
  {
   "cell_type": "code",
   "execution_count": null,
   "metadata": {},
   "outputs": [],
   "source": []
  },
  {
   "cell_type": "code",
   "execution_count": null,
   "metadata": {},
   "outputs": [],
   "source": []
  },
  {
   "cell_type": "code",
   "execution_count": null,
   "metadata": {},
   "outputs": [],
   "source": [
    "\n"
   ]
  },
  {
   "cell_type": "code",
   "execution_count": 29,
   "metadata": {},
   "outputs": [],
   "source": [
    "\n"
   ]
  },
  {
   "cell_type": "code",
   "execution_count": null,
   "metadata": {},
   "outputs": [],
   "source": []
  },
  {
   "cell_type": "code",
   "execution_count": 32,
   "metadata": {},
   "outputs": [],
   "source": []
  },
  {
   "cell_type": "code",
   "execution_count": 34,
   "metadata": {},
   "outputs": [],
   "source": []
  },
  {
   "cell_type": "code",
   "execution_count": null,
   "metadata": {},
   "outputs": [],
   "source": []
  },
  {
   "cell_type": "code",
   "execution_count": null,
   "metadata": {},
   "outputs": [],
   "source": []
  },
  {
   "cell_type": "code",
   "execution_count": null,
   "metadata": {},
   "outputs": [],
   "source": []
  },
  {
   "cell_type": "code",
   "execution_count": null,
   "metadata": {},
   "outputs": [],
   "source": []
  },
  {
   "cell_type": "code",
   "execution_count": null,
   "metadata": {},
   "outputs": [],
   "source": []
  },
  {
   "cell_type": "code",
   "execution_count": null,
   "metadata": {},
   "outputs": [],
   "source": []
  },
  {
   "cell_type": "code",
   "execution_count": null,
   "metadata": {},
   "outputs": [],
   "source": [
    "\n"
   ]
  },
  {
   "cell_type": "code",
   "execution_count": null,
   "metadata": {},
   "outputs": [],
   "source": []
  },
  {
   "cell_type": "code",
   "execution_count": null,
   "metadata": {},
   "outputs": [],
   "source": []
  },
  {
   "cell_type": "code",
   "execution_count": null,
   "metadata": {},
   "outputs": [],
   "source": []
  },
  {
   "cell_type": "code",
   "execution_count": null,
   "metadata": {},
   "outputs": [],
   "source": []
  },
  {
   "cell_type": "code",
   "execution_count": 49,
   "metadata": {},
   "outputs": [
    {
     "ename": "AttributeError",
     "evalue": "'DataFrame' object has no attribute 'house_rules'",
     "output_type": "error",
     "traceback": [
      "\u001b[1;31m---------------------------------------------------------------------------\u001b[0m",
      "\u001b[1;31mAttributeError\u001b[0m                            Traceback (most recent call last)",
      "\u001b[1;32m<ipython-input-49-4120821c557d>\u001b[0m in \u001b[0;36m<module>\u001b[1;34m()\u001b[0m\n\u001b[1;32m----> 1\u001b[1;33m \u001b[0mall_listings\u001b[0m\u001b[1;33m.\u001b[0m\u001b[0mhouse_rules\u001b[0m\u001b[1;33m.\u001b[0m\u001b[0mhead\u001b[0m\u001b[1;33m(\u001b[0m\u001b[1;36m50\u001b[0m\u001b[1;33m)\u001b[0m\u001b[1;33m\u001b[0m\u001b[0m\n\u001b[0m",
      "\u001b[1;32m~\\Anaconda3\\lib\\site-packages\\pandas\\core\\generic.py\u001b[0m in \u001b[0;36m__getattr__\u001b[1;34m(self, name)\u001b[0m\n\u001b[0;32m   4374\u001b[0m             \u001b[1;32mif\u001b[0m \u001b[0mself\u001b[0m\u001b[1;33m.\u001b[0m\u001b[0m_info_axis\u001b[0m\u001b[1;33m.\u001b[0m\u001b[0m_can_hold_identifiers_and_holds_name\u001b[0m\u001b[1;33m(\u001b[0m\u001b[0mname\u001b[0m\u001b[1;33m)\u001b[0m\u001b[1;33m:\u001b[0m\u001b[1;33m\u001b[0m\u001b[0m\n\u001b[0;32m   4375\u001b[0m                 \u001b[1;32mreturn\u001b[0m \u001b[0mself\u001b[0m\u001b[1;33m[\u001b[0m\u001b[0mname\u001b[0m\u001b[1;33m]\u001b[0m\u001b[1;33m\u001b[0m\u001b[0m\n\u001b[1;32m-> 4376\u001b[1;33m             \u001b[1;32mreturn\u001b[0m \u001b[0mobject\u001b[0m\u001b[1;33m.\u001b[0m\u001b[0m__getattribute__\u001b[0m\u001b[1;33m(\u001b[0m\u001b[0mself\u001b[0m\u001b[1;33m,\u001b[0m \u001b[0mname\u001b[0m\u001b[1;33m)\u001b[0m\u001b[1;33m\u001b[0m\u001b[0m\n\u001b[0m\u001b[0;32m   4377\u001b[0m \u001b[1;33m\u001b[0m\u001b[0m\n\u001b[0;32m   4378\u001b[0m     \u001b[1;32mdef\u001b[0m \u001b[0m__setattr__\u001b[0m\u001b[1;33m(\u001b[0m\u001b[0mself\u001b[0m\u001b[1;33m,\u001b[0m \u001b[0mname\u001b[0m\u001b[1;33m,\u001b[0m \u001b[0mvalue\u001b[0m\u001b[1;33m)\u001b[0m\u001b[1;33m:\u001b[0m\u001b[1;33m\u001b[0m\u001b[0m\n",
      "\u001b[1;31mAttributeError\u001b[0m: 'DataFrame' object has no attribute 'house_rules'"
     ]
    }
   ],
   "source": []
  },
  {
   "cell_type": "code",
   "execution_count": null,
   "metadata": {},
   "outputs": [],
   "source": []
  },
  {
   "cell_type": "code",
   "execution_count": null,
   "metadata": {},
   "outputs": [],
   "source": []
  },
  {
   "cell_type": "code",
   "execution_count": null,
   "metadata": {},
   "outputs": [],
   "source": []
  },
  {
   "cell_type": "code",
   "execution_count": null,
   "metadata": {},
   "outputs": [],
   "source": []
  },
  {
   "cell_type": "code",
   "execution_count": null,
   "metadata": {},
   "outputs": [],
   "source": []
  },
  {
   "cell_type": "code",
   "execution_count": null,
   "metadata": {},
   "outputs": [],
   "source": []
  },
  {
   "cell_type": "code",
   "execution_count": null,
   "metadata": {
    "scrolled": true
   },
   "outputs": [],
   "source": []
  },
  {
   "cell_type": "code",
   "execution_count": null,
   "metadata": {},
   "outputs": [],
   "source": [
    "\n"
   ]
  },
  {
   "cell_type": "code",
   "execution_count": null,
   "metadata": {},
   "outputs": [],
   "source": []
  },
  {
   "cell_type": "code",
   "execution_count": null,
   "metadata": {},
   "outputs": [],
   "source": []
  },
  {
   "cell_type": "code",
   "execution_count": null,
   "metadata": {},
   "outputs": [],
   "source": []
  },
  {
   "cell_type": "code",
   "execution_count": null,
   "metadata": {},
   "outputs": [],
   "source": []
  },
  {
   "cell_type": "code",
   "execution_count": null,
   "metadata": {},
   "outputs": [],
   "source": []
  },
  {
   "cell_type": "code",
   "execution_count": null,
   "metadata": {},
   "outputs": [],
   "source": []
  },
  {
   "cell_type": "code",
   "execution_count": null,
   "metadata": {},
   "outputs": [],
   "source": []
  },
  {
   "cell_type": "code",
   "execution_count": null,
   "metadata": {},
   "outputs": [],
   "source": []
  },
  {
   "cell_type": "code",
   "execution_count": null,
   "metadata": {},
   "outputs": [],
   "source": []
  },
  {
   "cell_type": "code",
   "execution_count": null,
   "metadata": {},
   "outputs": [],
   "source": []
  },
  {
   "cell_type": "code",
   "execution_count": null,
   "metadata": {},
   "outputs": [],
   "source": []
  },
  {
   "cell_type": "markdown",
   "metadata": {},
   "source": [
    "The plots above show that the distrubution of the scores is skewed and most of the reviews are positive (scores are in the scale from 0 to 100)\n",
    "\n",
    "We will start with something fun, like building a wordmap from the comments"
   ]
  },
  {
   "cell_type": "code",
   "execution_count": null,
   "metadata": {},
   "outputs": [],
   "source": []
  },
  {
   "cell_type": "code",
   "execution_count": null,
   "metadata": {},
   "outputs": [],
   "source": []
  },
  {
   "cell_type": "code",
   "execution_count": null,
   "metadata": {},
   "outputs": [],
   "source": []
  },
  {
   "cell_type": "code",
   "execution_count": null,
   "metadata": {},
   "outputs": [],
   "source": []
  },
  {
   "cell_type": "code",
   "execution_count": null,
   "metadata": {},
   "outputs": [],
   "source": [
    "from langdetect import detect\n",
    "def lang_detection(series):\n",
    "    isEn = []\n",
    "    for text in series:\n",
    "        try:\n",
    "            language = detect(text)\n",
    "        except:\n",
    "            language = \"error\"\n",
    "            print(\"This row throws and error:\", text)\n",
    "        \n",
    "        if language == 'en':\n",
    "            isEn.append(True)\n",
    "        else:\n",
    "            isEn.append(False)\n",
    "            \n",
    "    return isEn\n",
    "#     return [True if detect(text) == 'en' else False for text in series]"
   ]
  },
  {
   "cell_type": "code",
   "execution_count": null,
   "metadata": {},
   "outputs": [],
   "source": [
    "\n",
    "lang_isen = lang_detection(reviews_df.comments)"
   ]
  },
  {
   "cell_type": "code",
   "execution_count": null,
   "metadata": {},
   "outputs": [],
   "source": [
    "reviews_df = reviews_df[lang_isen]"
   ]
  }
 ],
 "metadata": {
  "kernelspec": {
   "display_name": "Python 3",
   "language": "python",
   "name": "python3"
  },
  "language_info": {
   "codemirror_mode": {
    "name": "ipython",
    "version": 3
   },
   "file_extension": ".py",
   "mimetype": "text/x-python",
   "name": "python",
   "nbconvert_exporter": "python",
   "pygments_lexer": "ipython3",
   "version": "3.7.2"
  }
 },
 "nbformat": 4,
 "nbformat_minor": 2
}
