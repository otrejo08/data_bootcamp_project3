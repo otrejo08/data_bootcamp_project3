{
 "cells": [
  {
   "cell_type": "code",
   "execution_count": 1,
   "metadata": {},
   "outputs": [
    {
     "data": {
      "text/plain": [
       "<function datetime.strptime>"
      ]
     },
     "execution_count": 1,
     "metadata": {},
     "output_type": "execute_result"
    }
   ],
   "source": [
    "import pandas as pd\n",
    "import numpy as np\n",
    "import datetime\n",
    "datetime.datetime.strptime\n"
   ]
  },
  {
   "cell_type": "code",
   "execution_count": 3,
   "metadata": {},
   "outputs": [],
   "source": [
    "#import CSV\n",
    "reviews_csv = \"../../airbnb_rvw_wSeasons.csv\"\n",
    "\n",
    "reviews_df = pd.read_csv(reviews_csv, encoding='latin-1')"
   ]
  },
  {
   "cell_type": "code",
   "execution_count": 4,
   "metadata": {},
   "outputs": [
    {
     "data": {
      "text/html": [
       "<div>\n",
       "<style scoped>\n",
       "    .dataframe tbody tr th:only-of-type {\n",
       "        vertical-align: middle;\n",
       "    }\n",
       "\n",
       "    .dataframe tbody tr th {\n",
       "        vertical-align: top;\n",
       "    }\n",
       "\n",
       "    .dataframe thead th {\n",
       "        text-align: right;\n",
       "    }\n",
       "</style>\n",
       "<table border=\"1\" class=\"dataframe\">\n",
       "  <thead>\n",
       "    <tr style=\"text-align: right;\">\n",
       "      <th></th>\n",
       "      <th>listing_id</th>\n",
       "      <th>id</th>\n",
       "      <th>date</th>\n",
       "      <th>reviewer_id</th>\n",
       "      <th>reviewer_name</th>\n",
       "      <th>Description</th>\n",
       "      <th>comments</th>\n",
       "      <th>listing_name</th>\n",
       "      <th>host_id</th>\n",
       "      <th>listing_latitude</th>\n",
       "      <th>listing_longitude</th>\n",
       "      <th>host_name</th>\n",
       "      <th>Locale</th>\n",
       "      <th>Seasons</th>\n",
       "      <th>Month</th>\n",
       "      <th>Year</th>\n",
       "      <th>comment_length</th>\n",
       "      <th>Polarity</th>\n",
       "      <th>BaseMap</th>\n",
       "    </tr>\n",
       "  </thead>\n",
       "  <tbody>\n",
       "    <tr>\n",
       "      <th>0</th>\n",
       "      <td>654926</td>\n",
       "      <td>3437394</td>\n",
       "      <td>1/29/13</td>\n",
       "      <td>4579346</td>\n",
       "      <td>Patricia</td>\n",
       "      <td>A wonderful large terrace with loads of charac...</td>\n",
       "      <td>G</td>\n",
       "      <td>Fitzroy Terrace - Melbourne style!</td>\n",
       "      <td>3296183</td>\n",
       "      <td>-37.799751</td>\n",
       "      <td>144.981661</td>\n",
       "      <td>Frances</td>\n",
       "      <td>Melbourne</td>\n",
       "      <td>summer</td>\n",
       "      <td>January</td>\n",
       "      <td>2013</td>\n",
       "      <td>1</td>\n",
       "      <td>0%</td>\n",
       "      <td>ASCII_Base</td>\n",
       "    </tr>\n",
       "    <tr>\n",
       "      <th>1</th>\n",
       "      <td>256569</td>\n",
       "      <td>3610042</td>\n",
       "      <td>2/26/13</td>\n",
       "      <td>2219217</td>\n",
       "      <td>Jenny</td>\n",
       "      <td>Sandstone apartment Beaches Coastal walks Exce...</td>\n",
       "      <td>.</td>\n",
       "      <td>Sandstone Apartment - 300m to Beach</td>\n",
       "      <td>1347315</td>\n",
       "      <td>-33.908901</td>\n",
       "      <td>151.259232</td>\n",
       "      <td>John And Mitch</td>\n",
       "      <td>Sydney</td>\n",
       "      <td>summer</td>\n",
       "      <td>February</td>\n",
       "      <td>2013</td>\n",
       "      <td>1</td>\n",
       "      <td>0%</td>\n",
       "      <td>ASCII_Base</td>\n",
       "    </tr>\n",
       "    <tr>\n",
       "      <th>2</th>\n",
       "      <td>405515</td>\n",
       "      <td>4623670</td>\n",
       "      <td>5/16/13</td>\n",
       "      <td>5516808</td>\n",
       "      <td>Jeff</td>\n",
       "      <td>Student or young lady safe in your own small a...</td>\n",
       "      <td>NaN</td>\n",
       "      <td>MELB NICE PRIVATE UNIT &amp; MEALS</td>\n",
       "      <td>1214242</td>\n",
       "      <td>-37.710290</td>\n",
       "      <td>144.951188</td>\n",
       "      <td>Mal</td>\n",
       "      <td>Melbourne</td>\n",
       "      <td>autumn</td>\n",
       "      <td>May</td>\n",
       "      <td>2013</td>\n",
       "      <td>1</td>\n",
       "      <td>Not Trained</td>\n",
       "      <td>ASCII_Base</td>\n",
       "    </tr>\n",
       "    <tr>\n",
       "      <th>3</th>\n",
       "      <td>11156</td>\n",
       "      <td>5010297</td>\n",
       "      <td>6/7/13</td>\n",
       "      <td>6138747</td>\n",
       "      <td>Ratna</td>\n",
       "      <td>Very central to the city which can be reached ...</td>\n",
       "      <td>NaN</td>\n",
       "      <td>An Oasis in the City</td>\n",
       "      <td>40855</td>\n",
       "      <td>-33.869342</td>\n",
       "      <td>151.226878</td>\n",
       "      <td>Colleen</td>\n",
       "      <td>Sydney</td>\n",
       "      <td>winter</td>\n",
       "      <td>June</td>\n",
       "      <td>2013</td>\n",
       "      <td>1</td>\n",
       "      <td>Not Trained</td>\n",
       "      <td>ASCII_Base</td>\n",
       "    </tr>\n",
       "    <tr>\n",
       "      <th>4</th>\n",
       "      <td>483719</td>\n",
       "      <td>5764824</td>\n",
       "      <td>7/15/13</td>\n",
       "      <td>4359183</td>\n",
       "      <td>Michael</td>\n",
       "      <td>Private self contained ground floor studio apa...</td>\n",
       "      <td>Good</td>\n",
       "      <td>Quiet Studio Next to Train Station</td>\n",
       "      <td>9082</td>\n",
       "      <td>-37.742086</td>\n",
       "      <td>145.065408</td>\n",
       "      <td>Dennis</td>\n",
       "      <td>Melbourne</td>\n",
       "      <td>winter</td>\n",
       "      <td>July</td>\n",
       "      <td>2013</td>\n",
       "      <td>1</td>\n",
       "      <td>44%</td>\n",
       "      <td>ASCII_Base</td>\n",
       "    </tr>\n",
       "  </tbody>\n",
       "</table>\n",
       "</div>"
      ],
      "text/plain": [
       "   listing_id       id     date  reviewer_id reviewer_name  \\\n",
       "0      654926  3437394  1/29/13      4579346      Patricia   \n",
       "1      256569  3610042  2/26/13      2219217         Jenny   \n",
       "2      405515  4623670  5/16/13      5516808          Jeff   \n",
       "3       11156  5010297   6/7/13      6138747         Ratna   \n",
       "4      483719  5764824  7/15/13      4359183       Michael   \n",
       "\n",
       "                                         Description comments  \\\n",
       "0  A wonderful large terrace with loads of charac...        G   \n",
       "1  Sandstone apartment Beaches Coastal walks Exce...        .   \n",
       "2  Student or young lady safe in your own small a...      NaN   \n",
       "3  Very central to the city which can be reached ...      NaN   \n",
       "4  Private self contained ground floor studio apa...     Good   \n",
       "\n",
       "                          listing_name  host_id  listing_latitude  \\\n",
       "0   Fitzroy Terrace - Melbourne style!  3296183        -37.799751   \n",
       "1  Sandstone Apartment - 300m to Beach  1347315        -33.908901   \n",
       "2       MELB NICE PRIVATE UNIT & MEALS  1214242        -37.710290   \n",
       "3                 An Oasis in the City    40855        -33.869342   \n",
       "4  Quiet Studio Next to Train Station      9082        -37.742086   \n",
       "\n",
       "   listing_longitude       host_name     Locale Seasons     Month  Year  \\\n",
       "0         144.981661         Frances  Melbourne  summer   January  2013   \n",
       "1         151.259232  John And Mitch     Sydney  summer  February  2013   \n",
       "2         144.951188             Mal  Melbourne  autumn       May  2013   \n",
       "3         151.226878         Colleen     Sydney  winter      June  2013   \n",
       "4         145.065408          Dennis  Melbourne  winter      July  2013   \n",
       "\n",
       "   comment_length     Polarity     BaseMap  \n",
       "0               1           0%  ASCII_Base  \n",
       "1               1           0%  ASCII_Base  \n",
       "2               1  Not Trained  ASCII_Base  \n",
       "3               1  Not Trained  ASCII_Base  \n",
       "4               1          44%  ASCII_Base  "
      ]
     },
     "execution_count": 4,
     "metadata": {},
     "output_type": "execute_result"
    }
   ],
   "source": [
    "reviews_df.head()"
   ]
  },
  {
   "cell_type": "code",
   "execution_count": 5,
   "metadata": {},
   "outputs": [
    {
     "data": {
      "text/plain": [
       "(177340, 19)"
      ]
     },
     "execution_count": 5,
     "metadata": {},
     "output_type": "execute_result"
    }
   ],
   "source": [
    "reviews_df.shape"
   ]
  },
  {
   "cell_type": "code",
   "execution_count": 6,
   "metadata": {},
   "outputs": [
    {
     "data": {
      "text/plain": [
       "listing_id           False\n",
       "id                   False\n",
       "date                 False\n",
       "reviewer_id          False\n",
       "reviewer_name        False\n",
       "Description          False\n",
       "comments              True\n",
       "listing_name          True\n",
       "host_id              False\n",
       "listing_latitude     False\n",
       "listing_longitude    False\n",
       "host_name             True\n",
       "Locale               False\n",
       "Seasons              False\n",
       "Month                False\n",
       "Year                 False\n",
       "comment_length       False\n",
       "Polarity             False\n",
       "BaseMap              False\n",
       "dtype: bool"
      ]
     },
     "execution_count": 6,
     "metadata": {},
     "output_type": "execute_result"
    }
   ],
   "source": [
    "#check for null values\n",
    "reviews_df.isnull().any()"
   ]
  },
  {
   "cell_type": "code",
   "execution_count": 7,
   "metadata": {},
   "outputs": [],
   "source": [
    "#Dropping rows with no reviews\n",
    "clean_reviews_df= reviews_df[reviews_df.comments.notnull()]"
   ]
  },
  {
   "cell_type": "code",
   "execution_count": 8,
   "metadata": {},
   "outputs": [
    {
     "data": {
      "text/plain": [
       "listing_id           False\n",
       "id                   False\n",
       "date                 False\n",
       "reviewer_id          False\n",
       "reviewer_name        False\n",
       "Description          False\n",
       "comments             False\n",
       "listing_name          True\n",
       "host_id              False\n",
       "listing_latitude     False\n",
       "listing_longitude    False\n",
       "host_name             True\n",
       "Locale               False\n",
       "Seasons              False\n",
       "Month                False\n",
       "Year                 False\n",
       "comment_length       False\n",
       "Polarity             False\n",
       "BaseMap              False\n",
       "dtype: bool"
      ]
     },
     "execution_count": 8,
     "metadata": {},
     "output_type": "execute_result"
    }
   ],
   "source": [
    "clean_reviews_df.isnull().any()"
   ]
  },
  {
   "cell_type": "code",
   "execution_count": 9,
   "metadata": {},
   "outputs": [
    {
     "data": {
      "text/html": [
       "<div>\n",
       "<style scoped>\n",
       "    .dataframe tbody tr th:only-of-type {\n",
       "        vertical-align: middle;\n",
       "    }\n",
       "\n",
       "    .dataframe tbody tr th {\n",
       "        vertical-align: top;\n",
       "    }\n",
       "\n",
       "    .dataframe thead th {\n",
       "        text-align: right;\n",
       "    }\n",
       "</style>\n",
       "<table border=\"1\" class=\"dataframe\">\n",
       "  <thead>\n",
       "    <tr style=\"text-align: right;\">\n",
       "      <th></th>\n",
       "      <th>listing_id</th>\n",
       "      <th>id</th>\n",
       "      <th>date</th>\n",
       "      <th>reviewer_id</th>\n",
       "      <th>reviewer_name</th>\n",
       "      <th>Description</th>\n",
       "      <th>comments</th>\n",
       "      <th>listing_name</th>\n",
       "      <th>host_id</th>\n",
       "      <th>listing_latitude</th>\n",
       "      <th>listing_longitude</th>\n",
       "      <th>host_name</th>\n",
       "      <th>Locale</th>\n",
       "      <th>Seasons</th>\n",
       "      <th>Month</th>\n",
       "      <th>Year</th>\n",
       "      <th>comment_length</th>\n",
       "      <th>Polarity</th>\n",
       "      <th>BaseMap</th>\n",
       "    </tr>\n",
       "  </thead>\n",
       "  <tbody>\n",
       "    <tr>\n",
       "      <th>0</th>\n",
       "      <td>654926</td>\n",
       "      <td>3437394</td>\n",
       "      <td>1/29/13</td>\n",
       "      <td>4579346</td>\n",
       "      <td>Patricia</td>\n",
       "      <td>A wonderful large terrace with loads of charac...</td>\n",
       "      <td>G</td>\n",
       "      <td>Fitzroy Terrace - Melbourne style!</td>\n",
       "      <td>3296183</td>\n",
       "      <td>-37.799751</td>\n",
       "      <td>144.981661</td>\n",
       "      <td>Frances</td>\n",
       "      <td>Melbourne</td>\n",
       "      <td>summer</td>\n",
       "      <td>January</td>\n",
       "      <td>2013</td>\n",
       "      <td>1</td>\n",
       "      <td>0%</td>\n",
       "      <td>ASCII_Base</td>\n",
       "    </tr>\n",
       "    <tr>\n",
       "      <th>1</th>\n",
       "      <td>256569</td>\n",
       "      <td>3610042</td>\n",
       "      <td>2/26/13</td>\n",
       "      <td>2219217</td>\n",
       "      <td>Jenny</td>\n",
       "      <td>Sandstone apartment Beaches Coastal walks Exce...</td>\n",
       "      <td>.</td>\n",
       "      <td>Sandstone Apartment - 300m to Beach</td>\n",
       "      <td>1347315</td>\n",
       "      <td>-33.908901</td>\n",
       "      <td>151.259232</td>\n",
       "      <td>John And Mitch</td>\n",
       "      <td>Sydney</td>\n",
       "      <td>summer</td>\n",
       "      <td>February</td>\n",
       "      <td>2013</td>\n",
       "      <td>1</td>\n",
       "      <td>0%</td>\n",
       "      <td>ASCII_Base</td>\n",
       "    </tr>\n",
       "    <tr>\n",
       "      <th>4</th>\n",
       "      <td>483719</td>\n",
       "      <td>5764824</td>\n",
       "      <td>7/15/13</td>\n",
       "      <td>4359183</td>\n",
       "      <td>Michael</td>\n",
       "      <td>Private self contained ground floor studio apa...</td>\n",
       "      <td>Good</td>\n",
       "      <td>Quiet Studio Next to Train Station</td>\n",
       "      <td>9082</td>\n",
       "      <td>-37.742086</td>\n",
       "      <td>145.065408</td>\n",
       "      <td>Dennis</td>\n",
       "      <td>Melbourne</td>\n",
       "      <td>winter</td>\n",
       "      <td>July</td>\n",
       "      <td>2013</td>\n",
       "      <td>1</td>\n",
       "      <td>44%</td>\n",
       "      <td>ASCII_Base</td>\n",
       "    </tr>\n",
       "    <tr>\n",
       "      <th>8</th>\n",
       "      <td>2022615</td>\n",
       "      <td>9450029</td>\n",
       "      <td>12/29/13</td>\n",
       "      <td>9350820</td>\n",
       "      <td>Katya</td>\n",
       "      <td>Cute artistic light filled Victorian workers t...</td>\n",
       "      <td>.</td>\n",
       "      <td>Enjoy Melbourne from the heart</td>\n",
       "      <td>3173481</td>\n",
       "      <td>-37.787930</td>\n",
       "      <td>144.983777</td>\n",
       "      <td>Rose</td>\n",
       "      <td>Melbourne</td>\n",
       "      <td>summer</td>\n",
       "      <td>December</td>\n",
       "      <td>2013</td>\n",
       "      <td>1</td>\n",
       "      <td>0%</td>\n",
       "      <td>ASCII_Base</td>\n",
       "    </tr>\n",
       "    <tr>\n",
       "      <th>19</th>\n",
       "      <td>2079482</td>\n",
       "      <td>10958752</td>\n",
       "      <td>3/15/14</td>\n",
       "      <td>5405798</td>\n",
       "      <td>Julian</td>\n",
       "      <td>Great little 1 bedroom apartment with every th...</td>\n",
       "      <td>Top</td>\n",
       "      <td>1 bedroom, courtyard, extreme charm</td>\n",
       "      <td>2472571</td>\n",
       "      <td>-33.870193</td>\n",
       "      <td>151.221266</td>\n",
       "      <td>Bianca</td>\n",
       "      <td>Sydney</td>\n",
       "      <td>autumn</td>\n",
       "      <td>March</td>\n",
       "      <td>2014</td>\n",
       "      <td>1</td>\n",
       "      <td>20%</td>\n",
       "      <td>ASCII_Base</td>\n",
       "    </tr>\n",
       "  </tbody>\n",
       "</table>\n",
       "</div>"
      ],
      "text/plain": [
       "    listing_id        id      date  reviewer_id reviewer_name  \\\n",
       "0       654926   3437394   1/29/13      4579346      Patricia   \n",
       "1       256569   3610042   2/26/13      2219217         Jenny   \n",
       "4       483719   5764824   7/15/13      4359183       Michael   \n",
       "8      2022615   9450029  12/29/13      9350820         Katya   \n",
       "19     2079482  10958752   3/15/14      5405798        Julian   \n",
       "\n",
       "                                          Description comments  \\\n",
       "0   A wonderful large terrace with loads of charac...        G   \n",
       "1   Sandstone apartment Beaches Coastal walks Exce...        .   \n",
       "4   Private self contained ground floor studio apa...     Good   \n",
       "8   Cute artistic light filled Victorian workers t...        .   \n",
       "19  Great little 1 bedroom apartment with every th...      Top   \n",
       "\n",
       "                           listing_name  host_id  listing_latitude  \\\n",
       "0    Fitzroy Terrace - Melbourne style!  3296183        -37.799751   \n",
       "1   Sandstone Apartment - 300m to Beach  1347315        -33.908901   \n",
       "4   Quiet Studio Next to Train Station      9082        -37.742086   \n",
       "8        Enjoy Melbourne from the heart  3173481        -37.787930   \n",
       "19  1 bedroom, courtyard, extreme charm  2472571        -33.870193   \n",
       "\n",
       "    listing_longitude       host_name     Locale Seasons     Month  Year  \\\n",
       "0          144.981661         Frances  Melbourne  summer   January  2013   \n",
       "1          151.259232  John And Mitch     Sydney  summer  February  2013   \n",
       "4          145.065408          Dennis  Melbourne  winter      July  2013   \n",
       "8          144.983777            Rose  Melbourne  summer  December  2013   \n",
       "19         151.221266          Bianca     Sydney  autumn     March  2014   \n",
       "\n",
       "    comment_length Polarity     BaseMap  \n",
       "0                1       0%  ASCII_Base  \n",
       "1                1       0%  ASCII_Base  \n",
       "4                1      44%  ASCII_Base  \n",
       "8                1       0%  ASCII_Base  \n",
       "19               1      20%  ASCII_Base  "
      ]
     },
     "execution_count": 9,
     "metadata": {},
     "output_type": "execute_result"
    }
   ],
   "source": [
    "clean_reviews_df.head()\n"
   ]
  },
  {
   "cell_type": "code",
   "execution_count": 10,
   "metadata": {},
   "outputs": [
    {
     "data": {
      "text/plain": [
       "(177311, 19)"
      ]
     },
     "execution_count": 10,
     "metadata": {},
     "output_type": "execute_result"
    }
   ],
   "source": [
    "clean_reviews_df.shape"
   ]
  },
  {
   "cell_type": "code",
   "execution_count": 11,
   "metadata": {},
   "outputs": [
    {
     "name": "stderr",
     "output_type": "stream",
     "text": [
      "/anaconda3/lib/python3.6/site-packages/ipykernel_launcher.py:9: SettingWithCopyWarning: \n",
      "A value is trying to be set on a copy of a slice from a DataFrame.\n",
      "Try using .loc[row_indexer,col_indexer] = value instead\n",
      "\n",
      "See the caveats in the documentation: http://pandas.pydata.org/pandas-docs/stable/indexing.html#indexing-view-versus-copy\n",
      "  if __name__ == '__main__':\n"
     ]
    }
   ],
   "source": [
    "#remove punctuation from comments\n",
    "import string\n",
    "\n",
    "def remove_punctuations(text):\n",
    "    for punctuation in string.punctuation:\n",
    "        text = text.replace(punctuation, '')\n",
    "    return text\n",
    "\n",
    "clean_reviews_df[\"comments\"] = clean_reviews_df['comments'].apply(remove_punctuations)"
   ]
  },
  {
   "cell_type": "code",
   "execution_count": 14,
   "metadata": {},
   "outputs": [
    {
     "data": {
      "text/plain": [
       "(177311, 19)"
      ]
     },
     "execution_count": 14,
     "metadata": {},
     "output_type": "execute_result"
    }
   ],
   "source": [
    "clean_reviews_df.shape"
   ]
  },
  {
   "cell_type": "code",
   "execution_count": 15,
   "metadata": {},
   "outputs": [],
   "source": [
    "clean_reviews_df.to_csv('airbnb_reviews.csv')"
   ]
  },
  {
   "cell_type": "code",
   "execution_count": null,
   "metadata": {},
   "outputs": [],
   "source": []
  }
 ],
 "metadata": {
  "kernelspec": {
   "display_name": "Python 3",
   "language": "python",
   "name": "python3"
  },
  "language_info": {
   "codemirror_mode": {
    "name": "ipython",
    "version": 3
   },
   "file_extension": ".py",
   "mimetype": "text/x-python",
   "name": "python",
   "nbconvert_exporter": "python",
   "pygments_lexer": "ipython3",
   "version": "3.6.8"
  }
 },
 "nbformat": 4,
 "nbformat_minor": 2
}
