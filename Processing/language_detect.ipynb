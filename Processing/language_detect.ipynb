{
 "cells": [
  {
   "cell_type": "code",
   "execution_count": 1,
   "metadata": {},
   "outputs": [
    {
     "name": "stderr",
     "output_type": "stream",
     "text": [
      "C:\\Users\\mvesk\\Anaconda3\\lib\\site-packages\\nltk\\twitter\\__init__.py:20: UserWarning: The twython library has not been installed. Some functionality from the twitter package will not be available.\n",
      "  warnings.warn(\"The twython library has not been installed. \"\n"
     ]
    }
   ],
   "source": [
    "import nltk\n",
    "#nltk.downloader.download('vader_lexicon')\n",
    "from nltk.sentiment import SentimentIntensityAnalyzer\n",
    "import numpy as np\n",
    "from pandas import Series, DataFrame\n",
    "import pandas as pd\n",
    "import seaborn as sns\n",
    "from collections import Counter\n",
    "from numpy.random import randn\n",
    "from datetime import datetime\n",
    "\n",
    "analyser = SentimentIntensityAnalyzer()\n",
    "\n",
    "# def print_sentiment_scores(sentence):\n",
    "#     \"\"\"\n",
    "#     Prints the polarity scores from teh analyser\n",
    "#     input: a text sentence\n",
    "#     output: a list with the polarity scores (positivity, negativity, neutral, compound) of the sentence\n",
    "#     \"\"\"\n",
    "#     snt = analyser.polarity_scores(sentence)\n",
    "#     #print(\"{:-<40} {}\".format(sentence, str(snt)))"
   ]
  },
  {
   "cell_type": "code",
   "execution_count": 2,
   "metadata": {},
   "outputs": [],
   "source": [
    "# Cleaning text data using langdetect \n",
    "\n",
    "\n",
    "from langdetect import detect \n",
    "# Detect language of reviews and drop rows with non-english reviews\n",
    "def safe_detect(text):\n",
    "    \"\"\"\n",
    "    Detect language of the text\n",
    "    input: a string with text\n",
    "    output: the encoding of the language of the text (example 'en' for english), or 'None' if not found \n",
    "    \"\"\"\n",
    "    try:\n",
    "        return(detect(text))\n",
    "    except:\n",
    "        return('None')"
   ]
  },
  {
   "cell_type": "code",
   "execution_count": 3,
   "metadata": {},
   "outputs": [],
   "source": [
    "sydney_reviews = pd.read_csv('sydney-2016-01-03-reviews.csv')"
   ]
  },
  {
   "cell_type": "code",
   "execution_count": 4,
   "metadata": {},
   "outputs": [
    {
     "data": {
      "text/plain": [
       "0                         Listing description accurate\n",
       "1    Lovely location close to everything we needed ...\n",
       "2    Robyn and Ken were lovely. They both looked af...\n",
       "3    I enjoyed staying in this apartment, something...\n",
       "4    Me and my boyfriend stayed at Ingrid's flat in...\n",
       "Name: comments, dtype: object"
      ]
     },
     "execution_count": 4,
     "metadata": {},
     "output_type": "execute_result"
    }
   ],
   "source": [
    "sydney_reviews.comments.head(5)"
   ]
  },
  {
   "cell_type": "code",
   "execution_count": 5,
   "metadata": {},
   "outputs": [],
   "source": [
    "#And now removing non-english reviews  \n",
    "\n",
    "def review_preprocessing(reviews):\n",
    "    \n",
    "    df = reviews.dropna(subset=['comments']).copy()\n",
    "    df['language'] = df['comments'].apply(safe_detect)\n",
    "    return df[df['language']=='en']"
   ]
  },
  {
   "cell_type": "code",
   "execution_count": 6,
   "metadata": {},
   "outputs": [],
   "source": [
    "sydney2_review = review_preprocessing(sydney_reviews) # goes in\n",
    "sydney2_review.to_csv('sydney_english_reviews.csv') #comes out"
   ]
  },
  {
   "cell_type": "code",
   "execution_count": 8,
   "metadata": {},
   "outputs": [
    {
     "data": {
      "text/plain": [
       "0                          Listing description accurate\n",
       "1     Lovely location close to everything we needed ...\n",
       "2     Robyn and Ken were lovely. They both looked af...\n",
       "3     I enjoyed staying in this apartment, something...\n",
       "4     Me and my boyfriend stayed at Ingrid's flat in...\n",
       "5     We had an excellent time in Bronte. The photos...\n",
       "7     Our stay with Ingrid was perfect. The location...\n",
       "8     The reservation was canceled 16 days before ar...\n",
       "10    This is a really great little hideaway. I'm re...\n",
       "11    A fantastic location! My family and I stayed h...\n",
       "12    The host canceled this reservation 20 days bef...\n",
       "13    Fantastic location right at the beach. Very cl...\n",
       "14    Judd and Ingrid were great hosts. Easy to comm...\n",
       "15    If proximity to an amazing, local beach is you...\n",
       "16    Caz & Lee are super hospitable and went out of...\n",
       "17    We had a lovely stay at this little beach pad ...\n",
       "18    The listing description was better than accura...\n",
       "19    We absolutely loved our stay at Emma's in Bron...\n",
       "20    A last minute booking and Emma was very respon...\n",
       "21    The reservation was canceled 79 days before ar...\n",
       "22    What a lovely place to wake up to in the morni...\n",
       "23    The place and host are both really lovely.  Th...\n",
       "24    What a gorgeous apartment.  The view is, of co...\n",
       "25    Fiona is a magnificent host. Communication was...\n",
       "26    Excellent Host, magic location and amazing are...\n",
       "27    Incredible location and breathtaking view. The...\n",
       "28    Emma is an awesome host. She was very accommod...\n",
       "29    Simply perfect, Emma was super helpful at shor...\n",
       "30    We had the most amazing stay at Emma's house. ...\n",
       "31    Stunning apartment.  Incredible ocean view, op...\n",
       "                            ...                        \n",
       "52    This flat was perfect for a 2 week business tr...\n",
       "53    We were very happy when we arrived in Sydney a...\n",
       "54    My friend Emma and I only stayed here for 2 ni...\n",
       "55    This is my second time staying at Aly's flat i...\n",
       "56    The appartment is exactly the same as discribe...\n",
       "58    The reservation was canceled the day before ar...\n",
       "59    Aly was a great host and kept in contact with ...\n",
       "60    Great apartment, really clean and it's in a gr...\n",
       "61    This is a great apartment, in one of Sydney's ...\n",
       "62    The host is very responsive and easy to deal w...\n",
       "63    My husband and I stayed in this apartment for ...\n",
       "64    The reservation was canceled 303 days before a...\n",
       "65    We only stayed for a night and it was exactly ...\n",
       "66    This was a great place to stay in Sydney for t...\n",
       "67    I recently spent some days in Aly's apartment ...\n",
       "68    I stayed in Ali's apartment for 10 days, and I...\n",
       "69    My stay in Aly's apartment was good. The locat...\n",
       "70                           Very nice location ....!! \n",
       "71    Sarah was a pleasant host and I enjoyed my sta...\n",
       "72    Sarah was an excellent host, always available ...\n",
       "73    We recently stayed 15 nights.  Unfortunately o...\n",
       "74    Sarah and her boyfriend were gracious hosts. T...\n",
       "75    A clean, cute and convenient house for a great...\n",
       "76     My daughter lives in an apartment just across...\n",
       "77    Sarah's place was a great first experience for...\n",
       "78    I had a splendid time at Sarah's (email hidden...\n",
       "79    Sarah's apartment is in a great location. A pl...\n",
       "80    I had such a great experience staying at Sarah...\n",
       "81    Booked Sarahs place for my dad who was visitin...\n",
       "82    This converted cellar has the lawn at window l...\n",
       "Name: comments, Length: 80, dtype: object"
      ]
     },
     "execution_count": 8,
     "metadata": {},
     "output_type": "execute_result"
    }
   ],
   "source": [
    "sydney2_review.comments.head(80)"
   ]
  },
  {
   "cell_type": "code",
   "execution_count": null,
   "metadata": {},
   "outputs": [],
   "source": []
  }
 ],
 "metadata": {
  "kernelspec": {
   "display_name": "Python 3",
   "language": "python",
   "name": "python3"
  },
  "language_info": {
   "codemirror_mode": {
    "name": "ipython",
    "version": 3
   },
   "file_extension": ".py",
   "mimetype": "text/x-python",
   "name": "python",
   "nbconvert_exporter": "python",
   "pygments_lexer": "ipython3",
   "version": "3.7.0"
  }
 },
 "nbformat": 4,
 "nbformat_minor": 2
}
