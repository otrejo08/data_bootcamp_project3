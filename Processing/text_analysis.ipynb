{
 "cells": [
  {
   "cell_type": "code",
   "execution_count": 6,
   "metadata": {},
   "outputs": [],
   "source": [
    "import nltk\n",
    "#nltk.downloader.download('vader_lexicon')\n",
    "from nltk.sentiment import SentimentIntensityAnalyzer\n",
    "import numpy as np\n",
    "from pandas import Series, DataFrame\n",
    "import pandas as pd\n",
    "import seaborn as sns\n",
    "from collections import Counter\n",
    "from numpy.random import randn\n",
    "from datetime import datetime\n",
    "\n",
    "analyser = SentimentIntensityAnalyzer()\n",
    "\n",
    "def print_sentiment_scores(sentence):\n",
    "    \"\"\"\n",
    "    Prints the polarity scores from teh analyser\n",
    "    input: a text sentence\n",
    "    output: a list with the polarity scores (positivity, negativity, neutral, compound) of the sentence\n",
    "    \"\"\"\n",
    "    snt = analyser.polarity_scores(sentence)\n",
    "    #print(\"{:-<40} {}\".format(sentence, str(snt)))"
   ]
  },
  {
   "cell_type": "code",
   "execution_count": 7,
   "metadata": {},
   "outputs": [],
   "source": [
    "# Cleaning Data Text preprocessing using langdetect \n",
    "\n",
    "\n",
    "from langdetect import detect \n",
    "# Detect language of reviews and drop rows with non-english reviews\n",
    "def safe_detect(text):\n",
    "    \"\"\"\n",
    "    Detect language of the text\n",
    "    input: a string with text\n",
    "    output: the encoding of the language of the text (example 'en' for english), or 'None' if not found \n",
    "    \"\"\"\n",
    "    try:\n",
    "        return(detect(text))\n",
    "    except:\n",
    "        return('None')"
   ]
  },
  {
   "cell_type": "code",
   "execution_count": 9,
   "metadata": {},
   "outputs": [],
   "source": [
    "sydney_reviews = pd.read_csv('sydney-2016-01-03-reviews.csv')"
   ]
  },
  {
   "cell_type": "code",
   "execution_count": 10,
   "metadata": {},
   "outputs": [
    {
     "data": {
      "text/plain": [
       "0                         Listing description accurate\n",
       "1    Lovely location close to everything we needed ...\n",
       "2    Robyn and Ken were lovely. They both looked af...\n",
       "3    I enjoyed staying in this apartment, something...\n",
       "4    Me and my boyfriend stayed at Ingrid's flat in...\n",
       "Name: comments, dtype: object"
      ]
     },
     "execution_count": 10,
     "metadata": {},
     "output_type": "execute_result"
    }
   ],
   "source": [
    "sydney_reviews.comments.head(5)"
   ]
  },
  {
   "cell_type": "code",
   "execution_count": null,
   "metadata": {},
   "outputs": [],
   "source": [
    "# We will remove all non-english reviews  \n",
    "#reviews['language'] = reviews['comments'].apply(safe_detect)\n",
    "def review_preprocessing(sydney_reviews):\n",
    "    \"\"\"\n",
    "    Preprocessing of reviews airbnb dataframe\n",
    "    input: dataframe of airbnb reviews\n",
    "    output: dataframe with language column added, limited to rows with reviews in english\n",
    "    \"\"\"\n",
    "    \n",
    "    df = sydney_reviews.dropna(subset=['comments']).copy()\n",
    "    df['language'] = df['comments'].apply(safe_detect)\n",
    "    return df[df['language']=='en']"
   ]
  }
 ],
 "metadata": {
  "kernelspec": {
   "display_name": "Python 3",
   "language": "python",
   "name": "python3"
  },
  "language_info": {
   "codemirror_mode": {
    "name": "ipython",
    "version": 3
   },
   "file_extension": ".py",
   "mimetype": "text/x-python",
   "name": "python",
   "nbconvert_exporter": "python",
   "pygments_lexer": "ipython3",
   "version": "3.7.0"
  }
 },
 "nbformat": 4,
 "nbformat_minor": 2
}
