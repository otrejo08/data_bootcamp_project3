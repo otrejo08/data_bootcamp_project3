{
 "cells": [
  {
   "cell_type": "code",
   "execution_count": null,
   "metadata": {},
   "outputs": [],
   "source": [
    "import numpy as np\n",
    "import pandas as pd\n",
    "from os import path\n",
    "from PIL import Image\n",
    "from wordcloud import WordCloud, STOPWORDS, ImageColorGenerator\n",
    "\n"
   ]
  },
  {
   "cell_type": "code",
   "execution_count": 2,
   "metadata": {},
   "outputs": [
    {
     "ename": "IndentationError",
     "evalue": "expected an indented block (<ipython-input-2-6c23de911880>, line 28)",
     "output_type": "error",
     "traceback": [
      "\u001b[1;36m  File \u001b[1;32m\"<ipython-input-2-6c23de911880>\"\u001b[1;36m, line \u001b[1;32m28\u001b[0m\n\u001b[1;33m    comment_words = comment_words + words + ' '\u001b[0m\n\u001b[1;37m                ^\u001b[0m\n\u001b[1;31mIndentationError\u001b[0m\u001b[1;31m:\u001b[0m expected an indented block\n"
     ]
    }
   ],
   "source": [
    "\n",
    "# Python program to generate WordCloud \n",
    "  \n",
    "# importing all necessery modules \n",
    "from wordcloud import WordCloud, STOPWORDS \n",
    "import matplotlib.pyplot as plt \n",
    "import pandas as pd \n",
    "  \n",
    "# Reads 'Youtube04-Eminem.csv' file  \n",
    "df = pd.read_csv(\"sydney_reviews.csv\", encoding =\"latin-1\") \n",
    "comment_words = ' '\n",
    "stopwords = set(STOPWORDS) \n",
    "  \n",
    "# iterate through the csv file \n",
    "for val in df.CONTENT: \n",
    "      \n",
    "    # typecaste each val to string \n",
    "    val = str(val) \n",
    "  \n",
    "    # split the value \n",
    "    tokens = val.split() \n",
    "      \n",
    "    # Converts each token into lowercase \n",
    "    for i in range(len(tokens)): \n",
    "        tokens[i] = tokens[i].lower() \n",
    "          \n",
    "    for words in tokens: \n",
    "    comment_words = comment_words + words + ' '\n",
    "  \n",
    "  \n",
    "wordcloud = WordCloud(width = 800, height = 800, \n",
    "                background_color ='white', \n",
    "                stopwords = stopwords, \n",
    "                min_font_size = 10).generate(comment_words) \n",
    "  \n",
    "# plot the WordCloud image                        \n",
    "plt.figure(figsize = (8, 8), facecolor = None) \n",
    "plt.imshow(wordcloud) \n",
    "plt.axis(\"off\") \n",
    "plt.tight_layout(pad = 0) \n",
    "  \n",
    "plt.show() "
   ]
  },
  {
   "cell_type": "code",
   "execution_count": null,
   "metadata": {},
   "outputs": [],
   "source": []
  },
  {
   "cell_type": "code",
   "execution_count": null,
   "metadata": {},
   "outputs": [],
   "source": []
  },
  {
   "cell_type": "code",
   "execution_count": null,
   "metadata": {},
   "outputs": [],
   "source": []
  },
  {
   "cell_type": "code",
   "execution_count": null,
   "metadata": {},
   "outputs": [],
   "source": [
    "def generate_wordcloud(df, save_file_name):\n",
    "    \"\"\"\n",
    "    Generate top words used in listing names for the dataframe in consideration\n",
    "    \n",
    "    INPUTS:\n",
    "        df - dataframe containing subset of listings to be used for wordcloud\n",
    "    \"\"\"\n",
    "    punctuations = string.punctuation\n",
    "    english_stopwords = stopwords.words(\"english\")\n",
    "    name_text=''\n",
    "    for index, row in df.iterrows():\n",
    "        name_text += \" \"\n",
    "        name_text += row['name']\n",
    "    name_text = nltk.word_tokenize(name_text)\n",
    "    # Remove, punctuations, stopwords and numbers\n",
    "    name_text = [word.lower() for word in name_text if word not in punctuations \\\n",
    "                 if not word.isdigit() if word not in english_stopwords]\n",
    "    wnl = nltk.WordNetLemmatizer()\n",
    "    name_text = [wnl.lemmatize(word) for word in name_text]\n",
    "    name_text = ' '.join(name_text)\n",
    "    name_wordcloud = WordCloud(width=1500,height=1000, background_color='white',\\\n",
    "                           max_words=200, random_state=100).generate(name_text)\n",
    "    plt.figure(figsize=(15,10));\n",
    "    plt.imshow(name_wordcloud);\n",
    "    plt.axis(\"off\");\n",
    "    plt.show();\n",
    "    name_wordcloud.to_file(save_file_name)"
   ]
  },
  {
   "cell_type": "code",
   "execution_count": null,
   "metadata": {},
   "outputs": [],
   "source": [
    "generate_wordcloud(sydney_top_10_percent_list, \"sydney_top_10_wordcloud.jpeg\")"
   ]
  },
  {
   "cell_type": "code",
   "execution_count": null,
   "metadata": {},
   "outputs": [],
   "source": []
  },
  {
   "cell_type": "code",
   "execution_count": null,
   "metadata": {},
   "outputs": [],
   "source": []
  }
 ],
 "metadata": {
  "kernelspec": {
   "display_name": "Python 3",
   "language": "python",
   "name": "python3"
  },
  "language_info": {
   "codemirror_mode": {
    "name": "ipython",
    "version": 3
   },
   "file_extension": ".py",
   "mimetype": "text/x-python",
   "name": "python",
   "nbconvert_exporter": "python",
   "pygments_lexer": "ipython3",
   "version": "3.7.0"
  }
 },
 "nbformat": 4,
 "nbformat_minor": 2
}
